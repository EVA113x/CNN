{
 "cells": [
  {
   "cell_type": "markdown",
   "id": "209fea3a-9a3e-47af-abac-c56fbda261d9",
   "metadata": {},
   "source": [
    "Refer https://www.bilibili.com/video/BV1D1421r7sj?spm_id_from=333.788.videopod.sections&vd_source=b47e02f9c38ec61f19d536cee73b2322"
   ]
  },
  {
   "cell_type": "code",
   "execution_count": 1,
   "id": "bec8f74f-fb24-41d5-940b-da183a09e467",
   "metadata": {},
   "outputs": [
    {
     "name": "stdout",
     "output_type": "stream",
     "text": [
      "Requirement already satisfied: torchvision in f:\\python\\lib\\site-packages (0.21.0+cu126)\n",
      "Requirement already satisfied: numpy in f:\\python\\lib\\site-packages (from torchvision) (2.2.1)\n",
      "Requirement already satisfied: torch==2.6.0+cu126 in f:\\python\\lib\\site-packages (from torchvision) (2.6.0+cu126)\n",
      "Requirement already satisfied: pillow!=8.3.*,>=5.3.0 in f:\\python\\lib\\site-packages (from torchvision) (11.1.0)\n",
      "Requirement already satisfied: filelock in f:\\python\\lib\\site-packages (from torch==2.6.0+cu126->torchvision) (3.17.0)\n",
      "Requirement already satisfied: typing-extensions>=4.10.0 in f:\\python\\lib\\site-packages (from torch==2.6.0+cu126->torchvision) (4.12.2)\n",
      "Requirement already satisfied: networkx in f:\\python\\lib\\site-packages (from torch==2.6.0+cu126->torchvision) (3.4.2)\n",
      "Requirement already satisfied: jinja2 in f:\\python\\lib\\site-packages (from torch==2.6.0+cu126->torchvision) (3.1.5)\n",
      "Requirement already satisfied: fsspec in f:\\python\\lib\\site-packages (from torch==2.6.0+cu126->torchvision) (2025.2.0)\n",
      "Requirement already satisfied: setuptools in f:\\python\\lib\\site-packages (from torch==2.6.0+cu126->torchvision) (70.2.0)\n",
      "Requirement already satisfied: sympy==1.13.1 in f:\\python\\lib\\site-packages (from torch==2.6.0+cu126->torchvision) (1.13.1)\n",
      "Requirement already satisfied: mpmath<1.4,>=1.1.0 in f:\\python\\lib\\site-packages (from sympy==1.13.1->torch==2.6.0+cu126->torchvision) (1.3.0)\n",
      "Requirement already satisfied: MarkupSafe>=2.0 in f:\\python\\lib\\site-packages (from jinja2->torch==2.6.0+cu126->torchvision) (3.0.2)\n"
     ]
    },
    {
     "name": "stderr",
     "output_type": "stream",
     "text": [
      "\n",
      "[notice] A new release of pip is available: 24.1.1 -> 25.0.1\n",
      "[notice] To update, run: python.exe -m pip install --upgrade pip\n"
     ]
    }
   ],
   "source": [
    "!pip install torchvision"
   ]
  },
  {
   "cell_type": "code",
   "execution_count": 2,
   "id": "f3c950a0-8c0f-490f-8b64-d24cd5ef6d24",
   "metadata": {},
   "outputs": [],
   "source": [
    "import torch\n",
    "import torch.nn as nn\n",
    "import torch.nn.functional as F\n",
    "import torch.optim as optim\n",
    "from torch.utils.data import DataLoader\n",
    "from torchvision import datasets, transforms"
   ]
  },
  {
   "cell_type": "markdown",
   "id": "df6ea83b-1465-4ee2-a923-8ce72f6f306d",
   "metadata": {},
   "source": [
    "<img src=\"image/cifar-100.jpg\" alt=\"resnet\" width=\"700\"/>\n"
   ]
  },
  {
   "cell_type": "code",
   "execution_count": 3,
   "id": "b8d1fe9e-bc8f-487e-8a8a-385c5ae3b011",
   "metadata": {},
   "outputs": [
    {
     "name": "stdout",
     "output_type": "stream",
     "text": [
      "Mean: tensor([0.5071, 0.4865, 0.4409])\n",
      "Std: tensor([0.2672, 0.2563, 0.2760])\n"
     ]
    }
   ],
   "source": [
    "transform = transforms.Compose([\n",
    "    transforms.ToTensor()\n",
    "])\n",
    "\n",
    "train_dataset = datasets.CIFAR100(root='./cifar100', download=True, transform=transform)\n",
    "loader = DataLoader(train_dataset, batch_size=500, shuffle=False)\n",
    "\n",
    "mean = torch.zeros(3)\n",
    "std = torch.zeros(3)\n",
    "\n",
    "for images, _ in loader:\n",
    "    for c in range(3):\n",
    "        mean[c] += images[:, c, :, :].mean()\n",
    "        std[c] += images[:, c, :, :].std()\n",
    "\n",
    "mean /= len(loader)\n",
    "std /= len(loader)\n",
    "\n",
    "print(f'Mean: {mean}')\n",
    "print(f'Std: {std}')"
   ]
  },
  {
   "cell_type": "code",
   "execution_count": 4,
   "id": "1534e68d-03e5-48cd-b729-50c78720aa9f",
   "metadata": {},
   "outputs": [],
   "source": [
    "transform = transforms.Compose([\n",
    "    transforms.ToTensor(),\n",
    "    transforms.Normalize(\n",
    "        mean=[0.5071, 0.4865, 0.4409],#Converts images from PIL or NumPy arrays to PyTorch tensors and scales pixel values from [0,255] to [0,1]\n",
    "        std=[0.2672, 0.2563, 0.2760]  # Standardizes data using the provided mean and standard deviation\n",
    "    )\n",
    "])\n",
    "\n",
    "train_dataset = datasets.CIFAR100(root='./cifar100', train=True, download=True, transform=transform)\n",
    "test_dataset = datasets.CIFAR100(root='./cifar100', train=False, download=True, transform=transform)\n",
    "\n",
    "train_loader = DataLoader(train_dataset, batch_size=128, shuffle=True)\n",
    "test_loader = DataLoader(test_dataset, batch_size=128, shuffle=False)\n"
   ]
  },
  {
   "cell_type": "code",
   "execution_count": 5,
   "id": "e500b467-1241-4d1e-8985-e67490b43d4e",
   "metadata": {},
   "outputs": [],
   "source": [
    "def train(model, device, train_loader, optimizer, epoch):\n",
    "    model.train()\n",
    "    for batch_idx, (data, target) in enumerate(train_loader):\n",
    "        data, target = data.to(device), target.to(device)\n",
    "        optimizer.zero_grad()\n",
    "        output = model(data)\n",
    "        loss = F.cross_entropy(output, target)\n",
    "        loss.backward()\n",
    "        optimizer.step()\n",
    "        if batch_idx % 100 == 0:\n",
    "            print(f'Train Epoch: {epoch} [{batch_idx * len(data)}/{len(train_loader.dataset)}]\\tLoss: {loss.item():.4f}')"
   ]
  },
  {
   "cell_type": "code",
   "execution_count": 6,
   "id": "373500dc-1ec8-42ab-b672-7a4af801384b",
   "metadata": {},
   "outputs": [],
   "source": [
    "def test(model, device, test_loader):\n",
    "    model.eval()\n",
    "    correct = 0\n",
    "    test_loss = 0\n",
    "    with torch.no_grad():\n",
    "        for data, target in test_loader:\n",
    "            data, target = data.to(device), target.to(device)\n",
    "            output = model(data)\n",
    "            test_loss += F.cross_entropy(output, target, reduction='sum').item()\n",
    "            pred = output.argmax(dim=1, keepdim=True)\n",
    "            correct += pred.eq(target.view_as(pred)).sum().item()\n",
    "\n",
    "    test_loss /= len(test_loader.dataset)\n",
    "    accuracy = 100. * correct / len(test_loader.dataset)\n",
    "\n",
    "    print(f'Test set: Average loss: {test_loss:.4f}, Accuracy: {correct}/{len(test_loader.dataset)} ({accuracy:.2f}%)')\n"
   ]
  },
  {
   "cell_type": "markdown",
   "id": "588b7505-8cd2-466c-ab76-576aa3e3cab5",
   "metadata": {},
   "source": [
    "<!-- ![Image from URL](image/alexnet.jpg) -->\n",
    "<img src=\"image/resnet.png\" alt=\"vgg\" width=\"800\"/>\n"
   ]
  },
  {
   "cell_type": "code",
   "execution_count": 7,
   "id": "f4003f86-8eaf-40ca-a6dc-77c2c01f5938",
   "metadata": {},
   "outputs": [],
   "source": [
    "class ResidualBlock(nn.Module):\n",
    "    def __init__(self, channels):\n",
    "        super().__init__()\n",
    "        self.conv1 = nn.Conv2d(channels, channels, kernel_size=3, padding=1)\n",
    "        self.conv2 = nn.Conv2d(channels, channels, kernel_size=3, padding=1)\n",
    "        self.relu = nn.ReLU()\n",
    "\n",
    "    def forward(self, x):\n",
    "        identity = x\n",
    "        out = self.relu(self.conv1(x))\n",
    "        out = self.conv2(out)\n",
    "        out += identity \n",
    "        return self.relu(out)"
   ]
  },
  {
   "cell_type": "code",
   "execution_count": null,
   "id": "d37b6e90-ef03-4558-8fc9-107018321477",
   "metadata": {},
   "outputs": [],
   "source": [
    "class ModifiedResNet(nn.Module):\n",
    "    def __init__(self):\n",
    "        super().__init__()\n",
    "        self.model = nn.Sequential(\n",
    "            nn.Conv2d(3, 64, kernel_size=3, padding=1), # 32×32\n",
    "            nn.ReLU(),\n",
    "\n",
    "            nn.Conv2d(64, 128, kernel_size=3, padding=1), # 32×32\n",
    "            nn.ReLU(),\n",
    "            nn.MaxPool2d(2, 2), # 16×16\n",
    "\n",
    "            ResidualBlock(128), # 16×16\n",
    "\n",
    "            nn.Conv2d(128, 256, kernel_size=3, padding=1), # 16×16\n",
    "            nn.ReLU(),\n",
    "            nn.MaxPool2d(2, 2), # 8×8\n",
    "\n",
    "            nn.Conv2d(256, 512, kernel_size=3, padding=1), # 8×8\n",
    "            nn.ReLU(),\n",
    "            nn.MaxPool2d(2, 2), # 4×4\n",
    "\n",
    "            ResidualBlock(512), # 4×4\n",
    "            nn.MaxPool2d(2, 2), # 2×2\n",
    "\n",
    "            nn.Flatten(),\n",
    "            \n",
    "            # overfitting\n",
    "            nn.Dropout(0.5),\n",
    "            \n",
    "            nn.Linear(512*2*2, 100) \n",
    "        )\n",
    "\n",
    "    def forward(self, x):\n",
    "        return self.model(x)"
   ]
  },
  {
   "cell_type": "code",
   "execution_count": null,
   "id": "7220ad6b-4c09-4cf0-83e4-8fe45dd4a3a2",
   "metadata": {},
   "outputs": [],
   "source": [
    "device = torch.device(\"cuda\" if torch.cuda.is_available() else \"cpu\")\n",
    "print(f'Using device: {device}')\n",
    "\n",
    "model = ModifiedResNet().to(device)\n",
    "# optimizer = optim.Adam(model.parameters(), lr=0.001)\n",
    "optimizer = optim.Adam(model.parameters(), lr=0.0001)\n",
    "\n",
    "epochs = 100\n",
    "for epoch in range(1, epochs + 1):\n",
    "    train(model, device, train_loader, optimizer, epoch)\n",
    "    test(model, device, test_loader)\n"
   ]
  },
  {
   "cell_type": "code",
   "execution_count": null,
   "id": "52e152a9-eb98-4071-b69e-e57308bddac1",
   "metadata": {},
   "outputs": [],
   "source": []
  },
  {
   "cell_type": "code",
   "execution_count": null,
   "id": "f5d39c24-1287-41ce-bb5f-db82a20bbaae",
   "metadata": {},
   "outputs": [],
   "source": []
  }
 ],
 "metadata": {
  "kernelspec": {
   "display_name": "Python 3 (ipykernel)",
   "language": "python",
   "name": "python3"
  },
  "language_info": {
   "codemirror_mode": {
    "name": "ipython",
    "version": 3
   },
   "file_extension": ".py",
   "mimetype": "text/x-python",
   "name": "python",
   "nbconvert_exporter": "python",
   "pygments_lexer": "ipython3",
   "version": "3.12.4"
  }
 },
 "nbformat": 4,
 "nbformat_minor": 5
}
