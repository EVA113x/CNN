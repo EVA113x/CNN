{
 "cells": [
  {
   "cell_type": "code",
   "execution_count": 4,
   "id": "bec8f74f-fb24-41d5-940b-da183a09e467",
   "metadata": {},
   "outputs": [
    {
     "name": "stdout",
     "output_type": "stream",
     "text": [
      "Requirement already satisfied: torchvision in f:\\python\\lib\\site-packages (0.21.0)\n",
      "Requirement already satisfied: numpy in f:\\python\\lib\\site-packages (from torchvision) (2.2.1)\n",
      "Requirement already satisfied: torch==2.6.0 in f:\\python\\lib\\site-packages (from torchvision) (2.6.0)\n",
      "Requirement already satisfied: pillow!=8.3.*,>=5.3.0 in f:\\python\\lib\\site-packages (from torchvision) (11.1.0)\n",
      "Requirement already satisfied: filelock in f:\\python\\lib\\site-packages (from torch==2.6.0->torchvision) (3.17.0)\n",
      "Requirement already satisfied: typing-extensions>=4.10.0 in f:\\python\\lib\\site-packages (from torch==2.6.0->torchvision) (4.12.2)\n",
      "Requirement already satisfied: networkx in f:\\python\\lib\\site-packages (from torch==2.6.0->torchvision) (3.4.2)\n",
      "Requirement already satisfied: jinja2 in f:\\python\\lib\\site-packages (from torch==2.6.0->torchvision) (3.1.5)\n",
      "Requirement already satisfied: fsspec in f:\\python\\lib\\site-packages (from torch==2.6.0->torchvision) (2025.2.0)\n",
      "Requirement already satisfied: setuptools in f:\\python\\lib\\site-packages (from torch==2.6.0->torchvision) (70.2.0)\n",
      "Requirement already satisfied: sympy==1.13.1 in f:\\python\\lib\\site-packages (from torch==2.6.0->torchvision) (1.13.1)\n",
      "Requirement already satisfied: mpmath<1.4,>=1.1.0 in f:\\python\\lib\\site-packages (from sympy==1.13.1->torch==2.6.0->torchvision) (1.3.0)\n",
      "Requirement already satisfied: MarkupSafe>=2.0 in f:\\python\\lib\\site-packages (from jinja2->torch==2.6.0->torchvision) (3.0.2)\n"
     ]
    },
    {
     "name": "stderr",
     "output_type": "stream",
     "text": [
      "\n",
      "[notice] A new release of pip is available: 24.1.1 -> 25.0.1\n",
      "[notice] To update, run: python.exe -m pip install --upgrade pip\n"
     ]
    }
   ],
   "source": [
    "!pip install torchvision"
   ]
  },
  {
   "cell_type": "code",
   "execution_count": 3,
   "id": "f3c950a0-8c0f-490f-8b64-d24cd5ef6d24",
   "metadata": {},
   "outputs": [],
   "source": [
    "import torch\n",
    "import torch.nn as nn\n",
    "import torch.nn.functional as F\n",
    "import torch.optim as optim\n",
    "from torch.utils.data import DataLoader\n",
    "from torchvision import datasets, transforms"
   ]
  },
  {
   "cell_type": "code",
   "execution_count": 4,
   "id": "1534e68d-03e5-48cd-b729-50c78720aa9f",
   "metadata": {},
   "outputs": [
    {
     "name": "stderr",
     "output_type": "stream",
     "text": [
      "100.0%\n",
      "100.0%\n"
     ]
    }
   ],
   "source": [
    "transform = transforms.Compose([\n",
    "    transforms.ToTensor(),\n",
    "    transforms.Normalize(mean=[0.4377, 0.4438, 0.4728],\n",
    "                         std=[0.1980, 0.2010, 0.1970])  # SVHN数据集的平均值和标准差\n",
    "])\n",
    "\n",
    "#  download and load the SVHN dataset\n",
    "train_dataset = datasets.SVHN(root='./svhn', split='train', download=True, transform=transform)\n",
    "test_dataset = datasets.SVHN(root='./svhn', split='test', download=True, transform=transform)\n",
    "\n",
    "train_loader = DataLoader(train_dataset, batch_size=128, shuffle=True)\n",
    "test_loader = DataLoader(test_dataset, batch_size=128, shuffle=False)\n"
   ]
  },
  {
   "cell_type": "code",
   "execution_count": 5,
   "id": "e500b467-1241-4d1e-8985-e67490b43d4e",
   "metadata": {},
   "outputs": [],
   "source": [
    "def train(model, device, train_loader, optimizer, epoch):\n",
    "    model.train()\n",
    "    for batch_idx, (data, target) in enumerate(train_loader):\n",
    "        data, target = data.to(device), target.to(device)\n",
    "        optimizer.zero_grad()\n",
    "        output = model(data)\n",
    "        loss = F.cross_entropy(output, target)\n",
    "        loss.backward()\n",
    "        optimizer.step()\n",
    "        if batch_idx % 100 == 0:\n",
    "            print(f'Train Epoch: {epoch} [{batch_idx * len(data)}/{len(train_loader.dataset)}]\\tLoss: {loss.item():.4f}')"
   ]
  },
  {
   "cell_type": "code",
   "execution_count": 6,
   "id": "373500dc-1ec8-42ab-b672-7a4af801384b",
   "metadata": {},
   "outputs": [],
   "source": [
    "def test(model, device, test_loader):\n",
    "    model.eval()\n",
    "    correct = 0\n",
    "    test_loss = 0\n",
    "    with torch.no_grad():\n",
    "        for data, target in test_loader:\n",
    "            data, target = data.to(device), target.to(device)\n",
    "            output = model(data)\n",
    "            test_loss += F.cross_entropy(output, target, reduction='sum').item()\n",
    "            pred = output.argmax(dim=1, keepdim=True)\n",
    "            correct += pred.eq(target.view_as(pred)).sum().item()\n",
    "\n",
    "    test_loss /= len(test_loader.dataset)\n",
    "    accuracy = 100. * correct / len(test_loader.dataset)\n",
    "\n",
    "    print(f'Test set: Average loss: {test_loss:.4f}, Accuracy: {correct}/{len(test_loader.dataset)} ({accuracy:.2f}%)')\n"
   ]
  },
  {
   "cell_type": "markdown",
   "id": "588b7505-8cd2-466c-ab76-576aa3e3cab5",
   "metadata": {},
   "source": [
    "![Image from URL](image/alexnet.jpg)\n"
   ]
  },
  {
   "cell_type": "code",
   "execution_count": 7,
   "id": "d37b6e90-ef03-4558-8fc9-107018321477",
   "metadata": {},
   "outputs": [],
   "source": [
    "\n",
    "\n",
    "class ModifiedAlexNet(nn.Module):\n",
    "    def __init__(self):\n",
    "        super().__init__()\n",
    "        self.model = nn.Sequential(\n",
    "            nn.Conv2d(3, 32, kernel_size=5, padding=2),  # 输入3通道，32个卷积核，5×5大小\n",
    "            nn.ReLU(),\n",
    "            nn.MaxPool2d(kernel_size=2, stride=2),\n",
    "\n",
    "            nn.Conv2d(32, 32, kernel_size=3, padding=1),\n",
    "            nn.ReLU(),\n",
    "            nn.MaxPool2d(kernel_size=2, stride=2),\n",
    "\n",
    "            nn.Conv2d(32, 64, kernel_size=3, padding=1),\n",
    "            nn.ReLU(),\n",
    "\n",
    "            nn.Conv2d(64, 64, kernel_size=3, padding=1),\n",
    "            nn.ReLU(),\n",
    "\n",
    "            nn.Conv2d(64, 128, kernel_size=3, padding=1),\n",
    "            nn.ReLU(),\n",
    "            nn.MaxPool2d(kernel_size=2, stride=2),\n",
    "\n",
    "            nn.Flatten(),\n",
    "\n",
    "            nn.Linear(128 * 4 * 4, 256), \n",
    "            nn.ReLU(),\n",
    "\n",
    "            nn.Linear(256, 128),\n",
    "            nn.ReLU(),\n",
    "\n",
    "            nn.Linear(128, 64),\n",
    "            nn.ReLU(),\n",
    "\n",
    "            nn.Linear(64, 10)\n",
    "        )\n",
    "\n",
    "    def forward(self, x):\n",
    "        return self.model(x)\n"
   ]
  },
  {
   "cell_type": "code",
   "execution_count": null,
   "id": "7220ad6b-4c09-4cf0-83e4-8fe45dd4a3a2",
   "metadata": {},
   "outputs": [
    {
     "name": "stdout",
     "output_type": "stream",
     "text": [
      "Train Epoch: 1 [0/73257]\tLoss: 2.3101\n",
      "Train Epoch: 1 [12800/73257]\tLoss: 2.0130\n",
      "Train Epoch: 1 [25600/73257]\tLoss: 1.2460\n",
      "Train Epoch: 1 [38400/73257]\tLoss: 0.6691\n",
      "Train Epoch: 1 [51200/73257]\tLoss: 0.7082\n",
      "Train Epoch: 1 [64000/73257]\tLoss: 0.5671\n",
      "Test set: Average loss: 0.4748, Accuracy: 22252/26032 (85.48%)\n",
      "Train Epoch: 2 [0/73257]\tLoss: 0.5613\n",
      "Train Epoch: 2 [12800/73257]\tLoss: 0.5320\n",
      "Train Epoch: 2 [25600/73257]\tLoss: 0.3008\n",
      "Train Epoch: 2 [38400/73257]\tLoss: 0.4625\n",
      "Train Epoch: 2 [51200/73257]\tLoss: 0.4480\n",
      "Train Epoch: 2 [64000/73257]\tLoss: 0.4291\n",
      "Test set: Average loss: 0.3668, Accuracy: 23241/26032 (89.28%)\n",
      "Train Epoch: 3 [0/73257]\tLoss: 0.2426\n",
      "Train Epoch: 3 [12800/73257]\tLoss: 0.4052\n",
      "Train Epoch: 3 [25600/73257]\tLoss: 0.4123\n",
      "Train Epoch: 3 [38400/73257]\tLoss: 0.4606\n",
      "Train Epoch: 3 [51200/73257]\tLoss: 0.2381\n",
      "Train Epoch: 3 [64000/73257]\tLoss: 0.3272\n",
      "Test set: Average loss: 0.2927, Accuracy: 23819/26032 (91.50%)\n",
      "Train Epoch: 4 [0/73257]\tLoss: 0.3177\n",
      "Train Epoch: 4 [12800/73257]\tLoss: 0.3368\n",
      "Train Epoch: 4 [25600/73257]\tLoss: 0.2658\n",
      "Train Epoch: 4 [38400/73257]\tLoss: 0.2332\n",
      "Train Epoch: 4 [51200/73257]\tLoss: 0.1881\n",
      "Train Epoch: 4 [64000/73257]\tLoss: 0.2525\n",
      "Test set: Average loss: 0.2904, Accuracy: 23760/26032 (91.27%)\n",
      "Train Epoch: 5 [0/73257]\tLoss: 0.1445\n",
      "Train Epoch: 5 [12800/73257]\tLoss: 0.2551\n",
      "Train Epoch: 5 [25600/73257]\tLoss: 0.1538\n",
      "Train Epoch: 5 [38400/73257]\tLoss: 0.2395\n",
      "Train Epoch: 5 [51200/73257]\tLoss: 0.2121\n",
      "Train Epoch: 5 [64000/73257]\tLoss: 0.2544\n",
      "Test set: Average loss: 0.2685, Accuracy: 24046/26032 (92.37%)\n",
      "Train Epoch: 6 [0/73257]\tLoss: 0.0944\n",
      "Train Epoch: 6 [12800/73257]\tLoss: 0.1883\n",
      "Train Epoch: 6 [25600/73257]\tLoss: 0.1047\n",
      "Train Epoch: 6 [38400/73257]\tLoss: 0.2161\n",
      "Train Epoch: 6 [51200/73257]\tLoss: 0.1597\n",
      "Train Epoch: 6 [64000/73257]\tLoss: 0.2247\n",
      "Test set: Average loss: 0.2694, Accuracy: 24076/26032 (92.49%)\n",
      "Train Epoch: 7 [0/73257]\tLoss: 0.1854\n",
      "Train Epoch: 7 [12800/73257]\tLoss: 0.1135\n",
      "Train Epoch: 7 [25600/73257]\tLoss: 0.2364\n",
      "Train Epoch: 7 [38400/73257]\tLoss: 0.1394\n",
      "Train Epoch: 7 [51200/73257]\tLoss: 0.0595\n",
      "Train Epoch: 7 [64000/73257]\tLoss: 0.1508\n",
      "Test set: Average loss: 0.2767, Accuracy: 24040/26032 (92.35%)\n",
      "Train Epoch: 8 [0/73257]\tLoss: 0.2046\n",
      "Train Epoch: 8 [12800/73257]\tLoss: 0.2045\n",
      "Train Epoch: 8 [25600/73257]\tLoss: 0.1787\n",
      "Train Epoch: 8 [38400/73257]\tLoss: 0.0612\n",
      "Train Epoch: 8 [51200/73257]\tLoss: 0.1632\n",
      "Train Epoch: 8 [64000/73257]\tLoss: 0.1178\n",
      "Test set: Average loss: 0.2567, Accuracy: 24188/26032 (92.92%)\n",
      "Train Epoch: 9 [0/73257]\tLoss: 0.0895\n",
      "Train Epoch: 9 [12800/73257]\tLoss: 0.1115\n",
      "Train Epoch: 9 [25600/73257]\tLoss: 0.1181\n",
      "Train Epoch: 9 [38400/73257]\tLoss: 0.0909\n",
      "Train Epoch: 9 [51200/73257]\tLoss: 0.1408\n",
      "Train Epoch: 9 [64000/73257]\tLoss: 0.0976\n",
      "Test set: Average loss: 0.3007, Accuracy: 23896/26032 (91.79%)\n",
      "Train Epoch: 10 [0/73257]\tLoss: 0.1137\n",
      "Train Epoch: 10 [12800/73257]\tLoss: 0.1051\n"
     ]
    }
   ],
   "source": [
    "device = torch.device(\"cuda\" if torch.cuda.is_available() else \"cpu\")\n",
    "model = ModifiedAlexNet().to(device)\n",
    "optimizer = optim.Adam(model.parameters(), lr=0.001)\n",
    "\n",
    "epochs = 10\n",
    "for epoch in range(1, epochs + 1):\n",
    "    train(model, device, train_loader, optimizer, epoch)\n",
    "    test(model, device, test_loader)\n"
   ]
  },
  {
   "cell_type": "code",
   "execution_count": null,
   "id": "52e152a9-eb98-4071-b69e-e57308bddac1",
   "metadata": {},
   "outputs": [],
   "source": []
  }
 ],
 "metadata": {
  "kernelspec": {
   "display_name": "Python 3 (ipykernel)",
   "language": "python",
   "name": "python3"
  },
  "language_info": {
   "codemirror_mode": {
    "name": "ipython",
    "version": 3
   },
   "file_extension": ".py",
   "mimetype": "text/x-python",
   "name": "python",
   "nbconvert_exporter": "python",
   "pygments_lexer": "ipython3",
   "version": "3.12.4"
  }
 },
 "nbformat": 4,
 "nbformat_minor": 5
}
