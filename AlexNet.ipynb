{
 "cells": [
  {
   "cell_type": "markdown",
   "id": "209fea3a-9a3e-47af-abac-c56fbda261d9",
   "metadata": {},
   "source": [
    "Refer https://www.bilibili.com/video/BV1D1421r7sj?spm_id_from=333.788.videopod.sections&vd_source=b47e02f9c38ec61f19d536cee73b2322"
   ]
  },
  {
   "cell_type": "code",
   "execution_count": 19,
   "id": "13c0afc9-6718-4219-bc03-8928ce3a7b4e",
   "metadata": {},
   "outputs": [
    {
     "name": "stdout",
     "output_type": "stream",
     "text": [
      "True\n",
      "1\n",
      "NVIDIA GeForce RTX 2060\n"
     ]
    }
   ],
   "source": [
    "import torch\n",
    "print(torch.cuda.is_available()) \n",
    "print(torch.cuda.device_count()) \n",
    "print(torch.cuda.get_device_name(0))"
   ]
  },
  {
   "cell_type": "code",
   "execution_count": 4,
   "id": "bec8f74f-fb24-41d5-940b-da183a09e467",
   "metadata": {},
   "outputs": [
    {
     "name": "stdout",
     "output_type": "stream",
     "text": [
      "Requirement already satisfied: torchvision in f:\\python\\lib\\site-packages (0.21.0)\n",
      "Requirement already satisfied: numpy in f:\\python\\lib\\site-packages (from torchvision) (2.2.1)\n",
      "Requirement already satisfied: torch==2.6.0 in f:\\python\\lib\\site-packages (from torchvision) (2.6.0)\n",
      "Requirement already satisfied: pillow!=8.3.*,>=5.3.0 in f:\\python\\lib\\site-packages (from torchvision) (11.1.0)\n",
      "Requirement already satisfied: filelock in f:\\python\\lib\\site-packages (from torch==2.6.0->torchvision) (3.17.0)\n",
      "Requirement already satisfied: typing-extensions>=4.10.0 in f:\\python\\lib\\site-packages (from torch==2.6.0->torchvision) (4.12.2)\n",
      "Requirement already satisfied: networkx in f:\\python\\lib\\site-packages (from torch==2.6.0->torchvision) (3.4.2)\n",
      "Requirement already satisfied: jinja2 in f:\\python\\lib\\site-packages (from torch==2.6.0->torchvision) (3.1.5)\n",
      "Requirement already satisfied: fsspec in f:\\python\\lib\\site-packages (from torch==2.6.0->torchvision) (2025.2.0)\n",
      "Requirement already satisfied: setuptools in f:\\python\\lib\\site-packages (from torch==2.6.0->torchvision) (70.2.0)\n",
      "Requirement already satisfied: sympy==1.13.1 in f:\\python\\lib\\site-packages (from torch==2.6.0->torchvision) (1.13.1)\n",
      "Requirement already satisfied: mpmath<1.4,>=1.1.0 in f:\\python\\lib\\site-packages (from sympy==1.13.1->torch==2.6.0->torchvision) (1.3.0)\n",
      "Requirement already satisfied: MarkupSafe>=2.0 in f:\\python\\lib\\site-packages (from jinja2->torch==2.6.0->torchvision) (3.0.2)\n"
     ]
    },
    {
     "name": "stderr",
     "output_type": "stream",
     "text": [
      "\n",
      "[notice] A new release of pip is available: 24.1.1 -> 25.0.1\n",
      "[notice] To update, run: python.exe -m pip install --upgrade pip\n"
     ]
    }
   ],
   "source": [
    "!pip install torchvision"
   ]
  },
  {
   "cell_type": "code",
   "execution_count": 10,
   "id": "f3c950a0-8c0f-490f-8b64-d24cd5ef6d24",
   "metadata": {},
   "outputs": [],
   "source": [
    "import torch\n",
    "import torch.nn as nn\n",
    "import torch.nn.functional as F\n",
    "import torch.optim as optim\n",
    "from torch.utils.data import DataLoader\n",
    "from torchvision import datasets, transforms"
   ]
  },
  {
   "cell_type": "markdown",
   "id": "df6ea83b-1465-4ee2-a923-8ce72f6f306d",
   "metadata": {},
   "source": [
    "![This is an image](image/svhn.jpg)\n"
   ]
  },
  {
   "cell_type": "code",
   "execution_count": 11,
   "id": "b8d1fe9e-bc8f-487e-8a8a-385c5ae3b011",
   "metadata": {},
   "outputs": [
    {
     "name": "stdout",
     "output_type": "stream",
     "text": [
      "Using downloaded and verified file: ./svhn\\train_32x32.mat\n",
      "Mean: tensor([0.4378, 0.4438, 0.4729])\n",
      "Std: tensor([0.1977, 0.2007, 0.1967])\n"
     ]
    }
   ],
   "source": [
    "transform = transforms.Compose([\n",
    "    transforms.ToTensor()\n",
    "])\n",
    "\n",
    "train_dataset = datasets.SVHN(root='./svhn', split='train', download=True, transform=transform)\n",
    "loader = DataLoader(train_dataset, batch_size=500, shuffle=False)\n",
    "\n",
    "mean = torch.zeros(3)\n",
    "std = torch.zeros(3)\n",
    "\n",
    "for images, _ in loader:\n",
    "    for c in range(3):\n",
    "        mean[c] += images[:, c, :, :].mean()\n",
    "        std[c] += images[:, c, :, :].std()\n",
    "\n",
    "mean /= len(loader)\n",
    "std /= len(loader)\n",
    "\n",
    "print(f'Mean: {mean}')\n",
    "print(f'Std: {std}')"
   ]
  },
  {
   "cell_type": "code",
   "execution_count": 12,
   "id": "1534e68d-03e5-48cd-b729-50c78720aa9f",
   "metadata": {},
   "outputs": [
    {
     "name": "stdout",
     "output_type": "stream",
     "text": [
      "Using downloaded and verified file: ./svhn\\train_32x32.mat\n",
      "Using downloaded and verified file: ./svhn\\test_32x32.mat\n"
     ]
    }
   ],
   "source": [
    "transform = transforms.Compose([\n",
    "    transforms.ToTensor(), #Converts images from PIL or NumPy arrays to PyTorch tensors and scales pixel values from [0,255] to [0,1]\n",
    "    transforms.Normalize(mean=[0.4378, 0.4438, 0.4729],\n",
    "                         std=[0.1977, 0.2007, 0.1967])  # Standardizes data using the provided mean and standard deviation\n",
    "])\n",
    "\n",
    "#  download and load the SVHN dataset\n",
    "train_dataset = datasets.SVHN(root='./svhn', split='train', download=True, transform=transform)\n",
    "test_dataset = datasets.SVHN(root='./svhn', split='test', download=True, transform=transform)\n",
    "\n",
    "train_loader = DataLoader(train_dataset, batch_size=128, shuffle=True)\n",
    "test_loader = DataLoader(test_dataset, batch_size=128, shuffle=False)\n"
   ]
  },
  {
   "cell_type": "code",
   "execution_count": 13,
   "id": "e500b467-1241-4d1e-8985-e67490b43d4e",
   "metadata": {},
   "outputs": [],
   "source": [
    "def train(model, device, train_loader, optimizer, epoch):\n",
    "    model.train()\n",
    "    for batch_idx, (data, target) in enumerate(train_loader):\n",
    "        data, target = data.to(device), target.to(device)\n",
    "        optimizer.zero_grad()\n",
    "        output = model(data)\n",
    "        loss = F.cross_entropy(output, target)\n",
    "        loss.backward()\n",
    "        optimizer.step()\n",
    "        if batch_idx % 100 == 0:\n",
    "            print(f'Train Epoch: {epoch} [{batch_idx * len(data)}/{len(train_loader.dataset)}]\\tLoss: {loss.item():.4f}')"
   ]
  },
  {
   "cell_type": "code",
   "execution_count": 14,
   "id": "373500dc-1ec8-42ab-b672-7a4af801384b",
   "metadata": {},
   "outputs": [],
   "source": [
    "def test(model, device, test_loader):\n",
    "    model.eval()\n",
    "    correct = 0\n",
    "    test_loss = 0\n",
    "    with torch.no_grad():\n",
    "        for data, target in test_loader:\n",
    "            data, target = data.to(device), target.to(device)\n",
    "            output = model(data)\n",
    "            test_loss += F.cross_entropy(output, target, reduction='sum').item()\n",
    "            pred = output.argmax(dim=1, keepdim=True)\n",
    "            correct += pred.eq(target.view_as(pred)).sum().item()\n",
    "\n",
    "    test_loss /= len(test_loader.dataset)\n",
    "    accuracy = 100. * correct / len(test_loader.dataset)\n",
    "\n",
    "    print(f'Test set: Average loss: {test_loss:.4f}, Accuracy: {correct}/{len(test_loader.dataset)} ({accuracy:.2f}%)')\n"
   ]
  },
  {
   "cell_type": "markdown",
   "id": "588b7505-8cd2-466c-ab76-576aa3e3cab5",
   "metadata": {},
   "source": [
    "<!-- ![Image from URL](image/alexnet.jpg) -->\n",
    "<img src=\"image/alexnet.jpg\" alt=\"vgg\" width=\"700\"/>"
   ]
  },
  {
   "cell_type": "markdown",
   "id": "1ec395cf-9334-4481-a77f-fd3b5793b30c",
   "metadata": {},
   "source": [
    "output_size = (input_size + 2 × padding - kernel_size) / stride + 1\n",
    "\n",
    "The size of SVHN's image is 3 channels and 32 x 32 "
   ]
  },
  {
   "cell_type": "code",
   "execution_count": 15,
   "id": "d37b6e90-ef03-4558-8fc9-107018321477",
   "metadata": {},
   "outputs": [],
   "source": [
    "class ModifiedAlexNet(nn.Module):\n",
    "    def __init__(self):\n",
    "        super().__init__()\n",
    "        self.model = nn.Sequential(\n",
    "            nn.Conv2d(3, 32, kernel_size=5, padding=2),  \n",
    "            nn.ReLU(),\n",
    "            nn.MaxPool2d(kernel_size=2, stride=2),\n",
    "\n",
    "            nn.Conv2d(32, 32, kernel_size=3, padding=1),\n",
    "            nn.ReLU(),\n",
    "            nn.MaxPool2d(kernel_size=2, stride=2),\n",
    "\n",
    "            nn.Conv2d(32, 64, kernel_size=3, padding=1),\n",
    "            nn.ReLU(),\n",
    "\n",
    "            nn.Conv2d(64, 64, kernel_size=3, padding=1),\n",
    "            nn.ReLU(),\n",
    "\n",
    "            nn.Conv2d(64, 128, kernel_size=3, padding=1),\n",
    "            nn.ReLU(),\n",
    "            nn.MaxPool2d(kernel_size=2, stride=2),\n",
    "\n",
    "            nn.Flatten(),\n",
    "\n",
    "            nn.Linear(128 * 4 * 4, 256), \n",
    "            nn.ReLU(),\n",
    "\n",
    "            nn.Linear(256, 128),\n",
    "            nn.ReLU(),\n",
    "\n",
    "            nn.Linear(128, 64),\n",
    "            nn.ReLU(),\n",
    "\n",
    "            nn.Linear(64, 10)\n",
    "        )\n",
    "\n",
    "    def forward(self, x):\n",
    "        return self.model(x)\n"
   ]
  },
  {
   "cell_type": "code",
   "execution_count": 16,
   "id": "7220ad6b-4c09-4cf0-83e4-8fe45dd4a3a2",
   "metadata": {},
   "outputs": [
    {
     "name": "stdout",
     "output_type": "stream",
     "text": [
      "Using device: cuda\n",
      "Train Epoch: 1 [0/73257]\tLoss: 2.3166\n",
      "Train Epoch: 1 [12800/73257]\tLoss: 2.1686\n",
      "Train Epoch: 1 [25600/73257]\tLoss: 1.3917\n",
      "Train Epoch: 1 [38400/73257]\tLoss: 1.1152\n",
      "Train Epoch: 1 [51200/73257]\tLoss: 0.7532\n",
      "Train Epoch: 1 [64000/73257]\tLoss: 0.6842\n",
      "Test set: Average loss: 0.6119, Accuracy: 21336/26032 (81.96%)\n",
      "Train Epoch: 2 [0/73257]\tLoss: 0.4753\n",
      "Train Epoch: 2 [12800/73257]\tLoss: 0.3502\n",
      "Train Epoch: 2 [25600/73257]\tLoss: 0.6210\n",
      "Train Epoch: 2 [38400/73257]\tLoss: 0.3264\n",
      "Train Epoch: 2 [51200/73257]\tLoss: 0.4748\n",
      "Train Epoch: 2 [64000/73257]\tLoss: 0.3533\n",
      "Test set: Average loss: 0.3695, Accuracy: 23190/26032 (89.08%)\n",
      "Train Epoch: 3 [0/73257]\tLoss: 0.3558\n",
      "Train Epoch: 3 [12800/73257]\tLoss: 0.2510\n",
      "Train Epoch: 3 [25600/73257]\tLoss: 0.4988\n",
      "Train Epoch: 3 [38400/73257]\tLoss: 0.4240\n",
      "Train Epoch: 3 [51200/73257]\tLoss: 0.2043\n",
      "Train Epoch: 3 [64000/73257]\tLoss: 0.2469\n",
      "Test set: Average loss: 0.3264, Accuracy: 23511/26032 (90.32%)\n",
      "Train Epoch: 4 [0/73257]\tLoss: 0.1919\n",
      "Train Epoch: 4 [12800/73257]\tLoss: 0.3766\n",
      "Train Epoch: 4 [25600/73257]\tLoss: 0.2607\n",
      "Train Epoch: 4 [38400/73257]\tLoss: 0.2627\n",
      "Train Epoch: 4 [51200/73257]\tLoss: 0.1782\n",
      "Train Epoch: 4 [64000/73257]\tLoss: 0.1979\n",
      "Test set: Average loss: 0.3237, Accuracy: 23613/26032 (90.71%)\n",
      "Train Epoch: 5 [0/73257]\tLoss: 0.1345\n",
      "Train Epoch: 5 [12800/73257]\tLoss: 0.1811\n",
      "Train Epoch: 5 [25600/73257]\tLoss: 0.1997\n",
      "Train Epoch: 5 [38400/73257]\tLoss: 0.1840\n",
      "Train Epoch: 5 [51200/73257]\tLoss: 0.1323\n",
      "Train Epoch: 5 [64000/73257]\tLoss: 0.1913\n",
      "Test set: Average loss: 0.3038, Accuracy: 23698/26032 (91.03%)\n",
      "Train Epoch: 6 [0/73257]\tLoss: 0.1550\n",
      "Train Epoch: 6 [12800/73257]\tLoss: 0.1549\n",
      "Train Epoch: 6 [25600/73257]\tLoss: 0.1778\n",
      "Train Epoch: 6 [38400/73257]\tLoss: 0.2739\n",
      "Train Epoch: 6 [51200/73257]\tLoss: 0.1941\n",
      "Train Epoch: 6 [64000/73257]\tLoss: 0.1680\n",
      "Test set: Average loss: 0.2743, Accuracy: 24085/26032 (92.52%)\n",
      "Train Epoch: 7 [0/73257]\tLoss: 0.2204\n",
      "Train Epoch: 7 [12800/73257]\tLoss: 0.1472\n",
      "Train Epoch: 7 [25600/73257]\tLoss: 0.0950\n",
      "Train Epoch: 7 [38400/73257]\tLoss: 0.1846\n",
      "Train Epoch: 7 [51200/73257]\tLoss: 0.0971\n",
      "Train Epoch: 7 [64000/73257]\tLoss: 0.2012\n",
      "Test set: Average loss: 0.2870, Accuracy: 24012/26032 (92.24%)\n",
      "Train Epoch: 8 [0/73257]\tLoss: 0.1536\n",
      "Train Epoch: 8 [12800/73257]\tLoss: 0.1809\n",
      "Train Epoch: 8 [25600/73257]\tLoss: 0.2898\n",
      "Train Epoch: 8 [38400/73257]\tLoss: 0.1117\n",
      "Train Epoch: 8 [51200/73257]\tLoss: 0.1694\n",
      "Train Epoch: 8 [64000/73257]\tLoss: 0.1184\n",
      "Test set: Average loss: 0.2924, Accuracy: 24031/26032 (92.31%)\n",
      "Train Epoch: 9 [0/73257]\tLoss: 0.1653\n",
      "Train Epoch: 9 [12800/73257]\tLoss: 0.0791\n",
      "Train Epoch: 9 [25600/73257]\tLoss: 0.1902\n",
      "Train Epoch: 9 [38400/73257]\tLoss: 0.1879\n",
      "Train Epoch: 9 [51200/73257]\tLoss: 0.1059\n",
      "Train Epoch: 9 [64000/73257]\tLoss: 0.0736\n",
      "Test set: Average loss: 0.2897, Accuracy: 24109/26032 (92.61%)\n",
      "Train Epoch: 10 [0/73257]\tLoss: 0.0601\n",
      "Train Epoch: 10 [12800/73257]\tLoss: 0.0615\n",
      "Train Epoch: 10 [25600/73257]\tLoss: 0.0787\n",
      "Train Epoch: 10 [38400/73257]\tLoss: 0.1083\n",
      "Train Epoch: 10 [51200/73257]\tLoss: 0.1534\n",
      "Train Epoch: 10 [64000/73257]\tLoss: 0.2227\n",
      "Test set: Average loss: 0.2897, Accuracy: 24128/26032 (92.69%)\n"
     ]
    }
   ],
   "source": [
    "device = torch.device(\"cuda\" if torch.cuda.is_available() else \"cpu\")\n",
    "print(f'Using device: {device}')\n",
    "\n",
    "model = ModifiedAlexNet().to(device)\n",
    "optimizer = optim.Adam(model.parameters(), lr=0.001)\n",
    "\n",
    "epochs = 10\n",
    "for epoch in range(1, epochs + 1):\n",
    "    train(model, device, train_loader, optimizer, epoch)\n",
    "    test(model, device, test_loader)\n"
   ]
  },
  {
   "cell_type": "code",
   "execution_count": null,
   "id": "52e152a9-eb98-4071-b69e-e57308bddac1",
   "metadata": {},
   "outputs": [],
   "source": []
  }
 ],
 "metadata": {
  "kernelspec": {
   "display_name": "Python 3 (ipykernel)",
   "language": "python",
   "name": "python3"
  },
  "language_info": {
   "codemirror_mode": {
    "name": "ipython",
    "version": 3
   },
   "file_extension": ".py",
   "mimetype": "text/x-python",
   "name": "python",
   "nbconvert_exporter": "python",
   "pygments_lexer": "ipython3",
   "version": "3.12.4"
  }
 },
 "nbformat": 4,
 "nbformat_minor": 5
}
