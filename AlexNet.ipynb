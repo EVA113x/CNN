{
 "cells": [
  {
   "cell_type": "markdown",
   "id": "209fea3a-9a3e-47af-abac-c56fbda261d9",
   "metadata": {},
   "source": [
    "Refer https://www.bilibili.com/video/BV1D1421r7sj?spm_id_from=333.788.videopod.sections&vd_source=b47e02f9c38ec61f19d536cee73b2322\n",
    "The parameters and structures of models are from Summit Diware"
   ]
  },
  {
   "cell_type": "code",
   "execution_count": 1,
   "id": "13c0afc9-6718-4219-bc03-8928ce3a7b4e",
   "metadata": {},
   "outputs": [
    {
     "name": "stdout",
     "output_type": "stream",
     "text": [
      "True\n",
      "1\n",
      "NVIDIA GeForce RTX 3050 Laptop GPU\n"
     ]
    }
   ],
   "source": [
    "import torch\n",
    "print(torch.cuda.is_available()) \n",
    "print(torch.cuda.device_count()) \n",
    "print(torch.cuda.get_device_name(0))"
   ]
  },
  {
   "cell_type": "code",
   "execution_count": 7,
   "id": "bec8f74f-fb24-41d5-940b-da183a09e467",
   "metadata": {},
   "outputs": [
    {
     "name": "stdout",
     "output_type": "stream",
     "text": [
      "Requirement already satisfied: torchvision in /home/woo/software/miniconda3/lib/python3.12/site-packages (0.21.0+cu126)\n",
      "Requirement already satisfied: numpy in /home/woo/software/miniconda3/lib/python3.12/site-packages (from torchvision) (2.0.1)\n",
      "Requirement already satisfied: torch==2.6.0 in /home/woo/software/miniconda3/lib/python3.12/site-packages (from torchvision) (2.6.0+cu126)\n",
      "Requirement already satisfied: pillow!=8.3.*,>=5.3.0 in /home/woo/software/miniconda3/lib/python3.12/site-packages (from torchvision) (11.0.0)\n",
      "Requirement already satisfied: filelock in /home/woo/software/miniconda3/lib/python3.12/site-packages (from torch==2.6.0->torchvision) (3.13.1)\n",
      "Requirement already satisfied: typing-extensions>=4.10.0 in /home/woo/software/miniconda3/lib/python3.12/site-packages (from torch==2.6.0->torchvision) (4.11.0)\n",
      "Requirement already satisfied: setuptools in /home/woo/software/miniconda3/lib/python3.12/site-packages (from torch==2.6.0->torchvision) (75.6.0)\n",
      "Requirement already satisfied: sympy==1.13.1 in /home/woo/software/miniconda3/lib/python3.12/site-packages (from torch==2.6.0->torchvision) (1.13.1)\n",
      "Requirement already satisfied: networkx in /home/woo/software/miniconda3/lib/python3.12/site-packages (from torch==2.6.0->torchvision) (3.2.1)\n",
      "Requirement already satisfied: jinja2 in /home/woo/software/miniconda3/lib/python3.12/site-packages (from torch==2.6.0->torchvision) (3.1.4)\n",
      "Requirement already satisfied: fsspec in /home/woo/software/miniconda3/lib/python3.12/site-packages (from torch==2.6.0->torchvision) (2024.10.0)\n",
      "Requirement already satisfied: nvidia-cuda-nvrtc-cu12==12.6.77 in /home/woo/software/miniconda3/lib/python3.12/site-packages (from torch==2.6.0->torchvision) (12.6.77)\n",
      "Requirement already satisfied: nvidia-cuda-runtime-cu12==12.6.77 in /home/woo/software/miniconda3/lib/python3.12/site-packages (from torch==2.6.0->torchvision) (12.6.77)\n",
      "Requirement already satisfied: nvidia-cuda-cupti-cu12==12.6.80 in /home/woo/software/miniconda3/lib/python3.12/site-packages (from torch==2.6.0->torchvision) (12.6.80)\n",
      "Requirement already satisfied: nvidia-cudnn-cu12==9.5.1.17 in /home/woo/software/miniconda3/lib/python3.12/site-packages (from torch==2.6.0->torchvision) (9.5.1.17)\n",
      "Requirement already satisfied: nvidia-cublas-cu12==12.6.4.1 in /home/woo/software/miniconda3/lib/python3.12/site-packages (from torch==2.6.0->torchvision) (12.6.4.1)\n",
      "Requirement already satisfied: nvidia-cufft-cu12==11.3.0.4 in /home/woo/software/miniconda3/lib/python3.12/site-packages (from torch==2.6.0->torchvision) (11.3.0.4)\n",
      "Requirement already satisfied: nvidia-curand-cu12==10.3.7.77 in /home/woo/software/miniconda3/lib/python3.12/site-packages (from torch==2.6.0->torchvision) (10.3.7.77)\n",
      "Requirement already satisfied: nvidia-cusolver-cu12==11.7.1.2 in /home/woo/software/miniconda3/lib/python3.12/site-packages (from torch==2.6.0->torchvision) (11.7.1.2)\n",
      "Requirement already satisfied: nvidia-cusparse-cu12==12.5.4.2 in /home/woo/software/miniconda3/lib/python3.12/site-packages (from torch==2.6.0->torchvision) (12.5.4.2)\n",
      "Requirement already satisfied: nvidia-cusparselt-cu12==0.6.3 in /home/woo/software/miniconda3/lib/python3.12/site-packages (from torch==2.6.0->torchvision) (0.6.3)\n",
      "Requirement already satisfied: nvidia-nccl-cu12==2.21.5 in /home/woo/software/miniconda3/lib/python3.12/site-packages (from torch==2.6.0->torchvision) (2.21.5)\n",
      "Requirement already satisfied: nvidia-nvtx-cu12==12.6.77 in /home/woo/software/miniconda3/lib/python3.12/site-packages (from torch==2.6.0->torchvision) (12.6.77)\n",
      "Requirement already satisfied: nvidia-nvjitlink-cu12==12.6.85 in /home/woo/software/miniconda3/lib/python3.12/site-packages (from torch==2.6.0->torchvision) (12.6.85)\n",
      "Requirement already satisfied: triton==3.2.0 in /home/woo/software/miniconda3/lib/python3.12/site-packages (from torch==2.6.0->torchvision) (3.2.0)\n",
      "Requirement already satisfied: mpmath<1.4,>=1.1.0 in /home/woo/software/miniconda3/lib/python3.12/site-packages (from sympy==1.13.1->torch==2.6.0->torchvision) (1.3.0)\n",
      "Requirement already satisfied: MarkupSafe>=2.0 in /home/woo/software/miniconda3/lib/python3.12/site-packages (from jinja2->torch==2.6.0->torchvision) (2.1.3)\n",
      "\n",
      "\u001b[1m[\u001b[0m\u001b[34;49mnotice\u001b[0m\u001b[1;39;49m]\u001b[0m\u001b[39;49m A new release of pip is available: \u001b[0m\u001b[31;49m24.3.1\u001b[0m\u001b[39;49m -> \u001b[0m\u001b[32;49m25.0.1\u001b[0m\n",
      "\u001b[1m[\u001b[0m\u001b[34;49mnotice\u001b[0m\u001b[1;39;49m]\u001b[0m\u001b[39;49m To update, run: \u001b[0m\u001b[32;49mpip install --upgrade pip\u001b[0m\n"
     ]
    }
   ],
   "source": [
    "!pip install torchvision"
   ]
  },
  {
   "cell_type": "code",
   "execution_count": 9,
   "id": "75e6e4b4-a6ea-4deb-8a22-b123d9376e6c",
   "metadata": {},
   "outputs": [
    {
     "name": "stdout",
     "output_type": "stream",
     "text": [
      "Collecting scipy\n",
      "  Downloading scipy-1.15.2-cp312-cp312-manylinux_2_17_x86_64.manylinux2014_x86_64.whl.metadata (61 kB)\n",
      "Requirement already satisfied: numpy<2.5,>=1.23.5 in /home/woo/software/miniconda3/lib/python3.12/site-packages (from scipy) (2.0.1)\n",
      "Downloading scipy-1.15.2-cp312-cp312-manylinux_2_17_x86_64.manylinux2014_x86_64.whl (37.3 MB)\n",
      "\u001b[2K   \u001b[38;2;114;156;31m━━━━━━━━━━━━━━━━━━━━━━━━━━━━━━━━━━━━━━━━\u001b[0m \u001b[32m37.3/37.3 MB\u001b[0m \u001b[31m28.5 MB/s\u001b[0m eta \u001b[36m0:00:00\u001b[0mm eta \u001b[36m0:00:01\u001b[0m0:01\u001b[0m:01\u001b[0m\n",
      "\u001b[?25hInstalling collected packages: scipy\n",
      "Successfully installed scipy-1.15.2\n",
      "\n",
      "\u001b[1m[\u001b[0m\u001b[34;49mnotice\u001b[0m\u001b[1;39;49m]\u001b[0m\u001b[39;49m A new release of pip is available: \u001b[0m\u001b[31;49m24.3.1\u001b[0m\u001b[39;49m -> \u001b[0m\u001b[32;49m25.0.1\u001b[0m\n",
      "\u001b[1m[\u001b[0m\u001b[34;49mnotice\u001b[0m\u001b[1;39;49m]\u001b[0m\u001b[39;49m To update, run: \u001b[0m\u001b[32;49mpip install --upgrade pip\u001b[0m\n"
     ]
    }
   ],
   "source": [
    "!pip install scipy"
   ]
  },
  {
   "cell_type": "code",
   "execution_count": 10,
   "id": "f3c950a0-8c0f-490f-8b64-d24cd5ef6d24",
   "metadata": {},
   "outputs": [],
   "source": [
    "import torch\n",
    "import scipy\n",
    "import torch.nn as nn\n",
    "import torch.nn.functional as F\n",
    "import torch.optim as optim\n",
    "from torch.utils.data import DataLoader\n",
    "from torchvision import datasets, transforms"
   ]
  },
  {
   "cell_type": "markdown",
   "id": "df6ea83b-1465-4ee2-a923-8ce72f6f306d",
   "metadata": {},
   "source": [
    "![This is an image](image/svhn.jpg)\n"
   ]
  },
  {
   "cell_type": "code",
   "execution_count": 11,
   "id": "b8d1fe9e-bc8f-487e-8a8a-385c5ae3b011",
   "metadata": {},
   "outputs": [
    {
     "name": "stdout",
     "output_type": "stream",
     "text": [
      "Mean: tensor([0.4378, 0.4438, 0.4729])\n",
      "Std: tensor([0.1977, 0.2007, 0.1967])\n"
     ]
    }
   ],
   "source": [
    "transform = transforms.Compose([\n",
    "    transforms.ToTensor()\n",
    "])\n",
    "\n",
    "train_dataset = datasets.SVHN(root='./svhn', split='train', download=True, transform=transform)\n",
    "loader = DataLoader(train_dataset, batch_size=500, shuffle=False)\n",
    "\n",
    "mean = torch.zeros(3)\n",
    "std = torch.zeros(3)\n",
    "\n",
    "for images, _ in loader:\n",
    "    for c in range(3):\n",
    "        mean[c] += images[:, c, :, :].mean()\n",
    "        std[c] += images[:, c, :, :].std()\n",
    "\n",
    "mean /= len(loader)\n",
    "std /= len(loader)\n",
    "\n",
    "print(f'Mean: {mean}')\n",
    "print(f'Std: {std}')"
   ]
  },
  {
   "cell_type": "code",
   "execution_count": 12,
   "id": "1534e68d-03e5-48cd-b729-50c78720aa9f",
   "metadata": {},
   "outputs": [
    {
     "name": "stderr",
     "output_type": "stream",
     "text": [
      "100%|██████████████████████████████████████| 64.3M/64.3M [00:33<00:00, 1.94MB/s]\n"
     ]
    }
   ],
   "source": [
    "transform = transforms.Compose([\n",
    "    transforms.ToTensor(), #Converts images from PIL or NumPy arrays to PyTorch tensors and scales pixel values from [0,255] to [0,1]\n",
    "    transforms.Normalize(mean=[0.4378, 0.4438, 0.4729],\n",
    "                         std=[0.1977, 0.2007, 0.1967])  # Standardizes data using the provided mean and standard deviation\n",
    "])\n",
    "\n",
    "#  download and load the SVHN dataset\n",
    "train_dataset = datasets.SVHN(root='./svhn', split='train', download=True, transform=transform)\n",
    "test_dataset = datasets.SVHN(root='./svhn', split='test', download=True, transform=transform)\n",
    "\n",
    "train_loader = DataLoader(train_dataset, batch_size=128, shuffle=True)\n",
    "test_loader = DataLoader(test_dataset, batch_size=128, shuffle=False)\n"
   ]
  },
  {
   "cell_type": "code",
   "execution_count": 13,
   "id": "e500b467-1241-4d1e-8985-e67490b43d4e",
   "metadata": {},
   "outputs": [],
   "source": [
    "def train(model, device, train_loader, optimizer, epoch):\n",
    "    model.train()\n",
    "    for batch_idx, (data, target) in enumerate(train_loader):\n",
    "        data, target = data.to(device), target.to(device)\n",
    "        optimizer.zero_grad()\n",
    "        output = model(data)\n",
    "        loss = F.cross_entropy(output, target)\n",
    "        loss.backward()\n",
    "        optimizer.step()\n",
    "        if batch_idx % 100 == 0:\n",
    "            print(f'Train Epoch: {epoch} [{batch_idx * len(data)}/{len(train_loader.dataset)}]\\tLoss: {loss.item():.4f}')"
   ]
  },
  {
   "cell_type": "code",
   "execution_count": 14,
   "id": "373500dc-1ec8-42ab-b672-7a4af801384b",
   "metadata": {},
   "outputs": [],
   "source": [
    "def test(model, device, test_loader):\n",
    "    model.eval()\n",
    "    correct = 0\n",
    "    test_loss = 0\n",
    "    with torch.no_grad():\n",
    "        for data, target in test_loader:\n",
    "            data, target = data.to(device), target.to(device)\n",
    "            output = model(data)\n",
    "            test_loss += F.cross_entropy(output, target, reduction='sum').item()\n",
    "            pred = output.argmax(dim=1, keepdim=True)\n",
    "            correct += pred.eq(target.view_as(pred)).sum().item()\n",
    "\n",
    "    test_loss /= len(test_loader.dataset)\n",
    "    accuracy = 100. * correct / len(test_loader.dataset)\n",
    "\n",
    "    print(f'Test set: Average loss: {test_loss:.4f}, Accuracy: {correct}/{len(test_loader.dataset)} ({accuracy:.2f}%)')\n"
   ]
  },
  {
   "cell_type": "markdown",
   "id": "588b7505-8cd2-466c-ab76-576aa3e3cab5",
   "metadata": {},
   "source": [
    "<!-- ![Image from URL](image/alexnet.jpg) -->\n",
    "<img src=\"image/alexnet.jpg\" alt=\"vgg\" width=\"700\"/>"
   ]
  },
  {
   "cell_type": "markdown",
   "id": "1ec395cf-9334-4481-a77f-fd3b5793b30c",
   "metadata": {},
   "source": [
    "output_size = (input_size + 2 × padding - kernel_size) / stride + 1\n",
    "\n",
    "The size of SVHN's image is 3 channels and 32 x 32 "
   ]
  },
  {
   "cell_type": "code",
   "execution_count": 15,
   "id": "d37b6e90-ef03-4558-8fc9-107018321477",
   "metadata": {},
   "outputs": [],
   "source": [
    "class ModifiedAlexNet(nn.Module):\n",
    "    def __init__(self):\n",
    "        super().__init__()\n",
    "        self.model = nn.Sequential(\n",
    "            nn.Conv2d(3, 32, kernel_size=5, padding=2),  \n",
    "            nn.ReLU(),\n",
    "            nn.MaxPool2d(kernel_size=2, stride=2),\n",
    "\n",
    "            nn.Conv2d(32, 32, kernel_size=3, padding=1),\n",
    "            nn.ReLU(),\n",
    "            nn.MaxPool2d(kernel_size=2, stride=2),\n",
    "\n",
    "            nn.Conv2d(32, 64, kernel_size=3, padding=1),\n",
    "            nn.ReLU(),\n",
    "\n",
    "            nn.Conv2d(64, 64, kernel_size=3, padding=1),\n",
    "            nn.ReLU(),\n",
    "\n",
    "            nn.Conv2d(64, 128, kernel_size=3, padding=1),\n",
    "            nn.ReLU(),\n",
    "            nn.MaxPool2d(kernel_size=2, stride=2),\n",
    "\n",
    "            nn.Flatten(),\n",
    "\n",
    "            nn.Linear(128 * 4 * 4, 256), \n",
    "            nn.ReLU(),\n",
    "\n",
    "            nn.Linear(256, 128),\n",
    "            nn.ReLU(),\n",
    "\n",
    "            nn.Linear(128, 64),\n",
    "            nn.ReLU(),\n",
    "\n",
    "            nn.Linear(64, 10)\n",
    "        )\n",
    "\n",
    "    def forward(self, x):\n",
    "        return self.model(x)\n"
   ]
  },
  {
   "cell_type": "code",
   "execution_count": 16,
   "id": "7220ad6b-4c09-4cf0-83e4-8fe45dd4a3a2",
   "metadata": {},
   "outputs": [
    {
     "name": "stdout",
     "output_type": "stream",
     "text": [
      "Using device: cuda\n",
      "Train Epoch: 1 [0/73257]\tLoss: 2.3111\n",
      "Train Epoch: 1 [12800/73257]\tLoss: 2.1105\n",
      "Train Epoch: 1 [25600/73257]\tLoss: 1.3492\n",
      "Train Epoch: 1 [38400/73257]\tLoss: 0.8925\n",
      "Train Epoch: 1 [51200/73257]\tLoss: 0.6704\n",
      "Train Epoch: 1 [64000/73257]\tLoss: 0.5769\n",
      "Test set: Average loss: 0.5905, Accuracy: 21280/26032 (81.75%)\n",
      "Train Epoch: 2 [0/73257]\tLoss: 0.5426\n",
      "Train Epoch: 2 [12800/73257]\tLoss: 0.4868\n",
      "Train Epoch: 2 [25600/73257]\tLoss: 0.3342\n",
      "Train Epoch: 2 [38400/73257]\tLoss: 0.3870\n",
      "Train Epoch: 2 [51200/73257]\tLoss: 0.2989\n",
      "Train Epoch: 2 [64000/73257]\tLoss: 0.4306\n",
      "Test set: Average loss: 0.3429, Accuracy: 23343/26032 (89.67%)\n",
      "Train Epoch: 3 [0/73257]\tLoss: 0.3605\n",
      "Train Epoch: 3 [12800/73257]\tLoss: 0.1992\n",
      "Train Epoch: 3 [25600/73257]\tLoss: 0.2983\n",
      "Train Epoch: 3 [38400/73257]\tLoss: 0.2806\n",
      "Train Epoch: 3 [51200/73257]\tLoss: 0.2847\n",
      "Train Epoch: 3 [64000/73257]\tLoss: 0.3472\n",
      "Test set: Average loss: 0.3048, Accuracy: 23737/26032 (91.18%)\n",
      "Train Epoch: 4 [0/73257]\tLoss: 0.2439\n",
      "Train Epoch: 4 [12800/73257]\tLoss: 0.2397\n",
      "Train Epoch: 4 [25600/73257]\tLoss: 0.3606\n",
      "Train Epoch: 4 [38400/73257]\tLoss: 0.1893\n",
      "Train Epoch: 4 [51200/73257]\tLoss: 0.1857\n",
      "Train Epoch: 4 [64000/73257]\tLoss: 0.3010\n",
      "Test set: Average loss: 0.2857, Accuracy: 23876/26032 (91.72%)\n",
      "Train Epoch: 5 [0/73257]\tLoss: 0.1844\n",
      "Train Epoch: 5 [12800/73257]\tLoss: 0.1742\n",
      "Train Epoch: 5 [25600/73257]\tLoss: 0.3239\n",
      "Train Epoch: 5 [38400/73257]\tLoss: 0.1275\n",
      "Train Epoch: 5 [51200/73257]\tLoss: 0.1169\n",
      "Train Epoch: 5 [64000/73257]\tLoss: 0.3263\n",
      "Test set: Average loss: 0.2852, Accuracy: 23890/26032 (91.77%)\n",
      "Train Epoch: 6 [0/73257]\tLoss: 0.1665\n",
      "Train Epoch: 6 [12800/73257]\tLoss: 0.1103\n",
      "Train Epoch: 6 [25600/73257]\tLoss: 0.1464\n",
      "Train Epoch: 6 [38400/73257]\tLoss: 0.1808\n",
      "Train Epoch: 6 [51200/73257]\tLoss: 0.2011\n",
      "Train Epoch: 6 [64000/73257]\tLoss: 0.1380\n",
      "Test set: Average loss: 0.2702, Accuracy: 24183/26032 (92.90%)\n",
      "Train Epoch: 7 [0/73257]\tLoss: 0.3551\n",
      "Train Epoch: 7 [12800/73257]\tLoss: 0.2112\n",
      "Train Epoch: 7 [25600/73257]\tLoss: 0.2269\n",
      "Train Epoch: 7 [38400/73257]\tLoss: 0.1613\n",
      "Train Epoch: 7 [51200/73257]\tLoss: 0.1187\n",
      "Train Epoch: 7 [64000/73257]\tLoss: 0.2075\n",
      "Test set: Average loss: 0.2967, Accuracy: 23865/26032 (91.68%)\n",
      "Train Epoch: 8 [0/73257]\tLoss: 0.2063\n",
      "Train Epoch: 8 [12800/73257]\tLoss: 0.0519\n",
      "Train Epoch: 8 [25600/73257]\tLoss: 0.1214\n",
      "Train Epoch: 8 [38400/73257]\tLoss: 0.1430\n",
      "Train Epoch: 8 [51200/73257]\tLoss: 0.1907\n",
      "Train Epoch: 8 [64000/73257]\tLoss: 0.1264\n",
      "Test set: Average loss: 0.2640, Accuracy: 24127/26032 (92.68%)\n",
      "Train Epoch: 9 [0/73257]\tLoss: 0.1127\n",
      "Train Epoch: 9 [12800/73257]\tLoss: 0.0982\n",
      "Train Epoch: 9 [25600/73257]\tLoss: 0.2116\n",
      "Train Epoch: 9 [38400/73257]\tLoss: 0.0945\n",
      "Train Epoch: 9 [51200/73257]\tLoss: 0.1532\n",
      "Train Epoch: 9 [64000/73257]\tLoss: 0.1037\n",
      "Test set: Average loss: 0.2892, Accuracy: 24211/26032 (93.00%)\n",
      "Train Epoch: 10 [0/73257]\tLoss: 0.0513\n",
      "Train Epoch: 10 [12800/73257]\tLoss: 0.0987\n",
      "Train Epoch: 10 [25600/73257]\tLoss: 0.1406\n",
      "Train Epoch: 10 [38400/73257]\tLoss: 0.1373\n",
      "Train Epoch: 10 [51200/73257]\tLoss: 0.1560\n",
      "Train Epoch: 10 [64000/73257]\tLoss: 0.1471\n",
      "Test set: Average loss: 0.2887, Accuracy: 24163/26032 (92.82%)\n"
     ]
    }
   ],
   "source": [
    "device = torch.device(\"cuda\" if torch.cuda.is_available() else \"cpu\")\n",
    "print(f'Using device: {device}')\n",
    "\n",
    "model = ModifiedAlexNet().to(device)\n",
    "optimizer = optim.Adam(model.parameters(), lr=0.001)\n",
    "\n",
    "epochs = 10\n",
    "for epoch in range(1, epochs + 1):\n",
    "    train(model, device, train_loader, optimizer, epoch)\n",
    "    test(model, device, test_loader)\n"
   ]
  },
  {
   "cell_type": "code",
   "execution_count": null,
   "id": "52e152a9-eb98-4071-b69e-e57308bddac1",
   "metadata": {},
   "outputs": [],
   "source": []
  }
 ],
 "metadata": {
  "kernelspec": {
   "display_name": "Python 3 (ipykernel)",
   "language": "python",
   "name": "python3"
  },
  "language_info": {
   "codemirror_mode": {
    "name": "ipython",
    "version": 3
   },
   "file_extension": ".py",
   "mimetype": "text/x-python",
   "name": "python",
   "nbconvert_exporter": "python",
   "pygments_lexer": "ipython3",
   "version": "3.12.3"
  }
 },
 "nbformat": 4,
 "nbformat_minor": 5
}
