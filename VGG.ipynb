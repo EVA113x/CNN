{
 "cells": [
  {
   "cell_type": "markdown",
   "id": "209fea3a-9a3e-47af-abac-c56fbda261d9",
   "metadata": {},
   "source": [
    "Refer https://www.bilibili.com/video/BV1D1421r7sj?spm_id_from=333.788.videopod.sections&vd_source=b47e02f9c38ec61f19d536cee73b2322\n",
    "\n",
    "The parameters and structures of models are from Summit Diware"
   ]
  },
  {
   "cell_type": "code",
   "execution_count": 1,
   "id": "1d8163d1-e1d6-49dc-9797-6a1a43606764",
   "metadata": {},
   "outputs": [
    {
     "name": "stdout",
     "output_type": "stream",
     "text": [
      "Fri Mar  7 07:16:27 2025       \n",
      "+---------------------------------------------------------------------------------------+\n",
      "| NVIDIA-SMI 535.183.01             Driver Version: 535.183.01   CUDA Version: 12.2     |\n",
      "|-----------------------------------------+----------------------+----------------------+\n",
      "| GPU  Name                 Persistence-M | Bus-Id        Disp.A | Volatile Uncorr. ECC |\n",
      "| Fan  Temp   Perf          Pwr:Usage/Cap |         Memory-Usage | GPU-Util  Compute M. |\n",
      "|                                         |                      |               MIG M. |\n",
      "|=========================================+======================+======================|\n",
      "|   0  NVIDIA GeForce RTX 3050 ...    Off | 00000000:01:00.0 Off |                  N/A |\n",
      "| N/A   35C    P0              N/A /  65W |      8MiB /  4096MiB |      0%      Default |\n",
      "|                                         |                      |                  N/A |\n",
      "+-----------------------------------------+----------------------+----------------------+\n",
      "                                                                                         \n",
      "+---------------------------------------------------------------------------------------+\n",
      "| Processes:                                                                            |\n",
      "|  GPU   GI   CI        PID   Type   Process name                            GPU Memory |\n",
      "|        ID   ID                                                             Usage      |\n",
      "|=======================================================================================|\n",
      "|    0   N/A  N/A      1793      G   /usr/lib/xorg/Xorg                            4MiB |\n",
      "+---------------------------------------------------------------------------------------+\n"
     ]
    }
   ],
   "source": [
    "!nvidia-smi"
   ]
  },
  {
   "cell_type": "code",
   "execution_count": 2,
   "id": "bec8f74f-fb24-41d5-940b-da183a09e467",
   "metadata": {},
   "outputs": [
    {
     "name": "stdout",
     "output_type": "stream",
     "text": [
      "Looking in indexes: https://download.pytorch.org/whl/cu121\n",
      "Requirement already satisfied: torch in /home/woo/software/miniconda3/lib/python3.12/site-packages (2.6.0+cu126)\n",
      "Requirement already satisfied: torchvision in /home/woo/software/miniconda3/lib/python3.12/site-packages (0.21.0+cu126)\n",
      "Requirement already satisfied: torchaudio in /home/woo/software/miniconda3/lib/python3.12/site-packages (2.6.0+cu126)\n",
      "Requirement already satisfied: filelock in /home/woo/software/miniconda3/lib/python3.12/site-packages (from torch) (3.13.1)\n",
      "Requirement already satisfied: typing-extensions>=4.10.0 in /home/woo/software/miniconda3/lib/python3.12/site-packages (from torch) (4.11.0)\n",
      "Requirement already satisfied: setuptools in /home/woo/software/miniconda3/lib/python3.12/site-packages (from torch) (75.6.0)\n",
      "Requirement already satisfied: sympy==1.13.1 in /home/woo/software/miniconda3/lib/python3.12/site-packages (from torch) (1.13.1)\n",
      "Requirement already satisfied: networkx in /home/woo/software/miniconda3/lib/python3.12/site-packages (from torch) (3.2.1)\n",
      "Requirement already satisfied: jinja2 in /home/woo/software/miniconda3/lib/python3.12/site-packages (from torch) (3.1.4)\n",
      "Requirement already satisfied: fsspec in /home/woo/software/miniconda3/lib/python3.12/site-packages (from torch) (2024.10.0)\n",
      "Requirement already satisfied: nvidia-cuda-nvrtc-cu12==12.6.77 in /home/woo/software/miniconda3/lib/python3.12/site-packages (from torch) (12.6.77)\n",
      "Requirement already satisfied: nvidia-cuda-runtime-cu12==12.6.77 in /home/woo/software/miniconda3/lib/python3.12/site-packages (from torch) (12.6.77)\n",
      "Requirement already satisfied: nvidia-cuda-cupti-cu12==12.6.80 in /home/woo/software/miniconda3/lib/python3.12/site-packages (from torch) (12.6.80)\n",
      "Requirement already satisfied: nvidia-cudnn-cu12==9.5.1.17 in /home/woo/software/miniconda3/lib/python3.12/site-packages (from torch) (9.5.1.17)\n",
      "Requirement already satisfied: nvidia-cublas-cu12==12.6.4.1 in /home/woo/software/miniconda3/lib/python3.12/site-packages (from torch) (12.6.4.1)\n",
      "Requirement already satisfied: nvidia-cufft-cu12==11.3.0.4 in /home/woo/software/miniconda3/lib/python3.12/site-packages (from torch) (11.3.0.4)\n",
      "Requirement already satisfied: nvidia-curand-cu12==10.3.7.77 in /home/woo/software/miniconda3/lib/python3.12/site-packages (from torch) (10.3.7.77)\n",
      "Requirement already satisfied: nvidia-cusolver-cu12==11.7.1.2 in /home/woo/software/miniconda3/lib/python3.12/site-packages (from torch) (11.7.1.2)\n",
      "Requirement already satisfied: nvidia-cusparse-cu12==12.5.4.2 in /home/woo/software/miniconda3/lib/python3.12/site-packages (from torch) (12.5.4.2)\n",
      "Requirement already satisfied: nvidia-cusparselt-cu12==0.6.3 in /home/woo/software/miniconda3/lib/python3.12/site-packages (from torch) (0.6.3)\n",
      "Requirement already satisfied: nvidia-nccl-cu12==2.21.5 in /home/woo/software/miniconda3/lib/python3.12/site-packages (from torch) (2.21.5)\n",
      "Requirement already satisfied: nvidia-nvtx-cu12==12.6.77 in /home/woo/software/miniconda3/lib/python3.12/site-packages (from torch) (12.6.77)\n",
      "Requirement already satisfied: nvidia-nvjitlink-cu12==12.6.85 in /home/woo/software/miniconda3/lib/python3.12/site-packages (from torch) (12.6.85)\n",
      "Requirement already satisfied: triton==3.2.0 in /home/woo/software/miniconda3/lib/python3.12/site-packages (from torch) (3.2.0)\n",
      "Requirement already satisfied: mpmath<1.4,>=1.1.0 in /home/woo/software/miniconda3/lib/python3.12/site-packages (from sympy==1.13.1->torch) (1.3.0)\n",
      "Requirement already satisfied: numpy in /home/woo/software/miniconda3/lib/python3.12/site-packages (from torchvision) (2.0.1)\n",
      "Requirement already satisfied: pillow!=8.3.*,>=5.3.0 in /home/woo/software/miniconda3/lib/python3.12/site-packages (from torchvision) (11.0.0)\n",
      "Requirement already satisfied: MarkupSafe>=2.0 in /home/woo/software/miniconda3/lib/python3.12/site-packages (from jinja2->torch) (2.1.3)\n"
     ]
    }
   ],
   "source": [
    "!pip install torch torchvision torchaudio --index-url https://download.pytorch.org/whl/cu121"
   ]
  },
  {
   "cell_type": "code",
   "execution_count": 3,
   "id": "eae9a865-8a58-4c22-aeeb-d80192766bd4",
   "metadata": {},
   "outputs": [
    {
     "name": "stdout",
     "output_type": "stream",
     "text": [
      "True\n",
      "1\n",
      "NVIDIA GeForce RTX 3050 Laptop GPU\n"
     ]
    }
   ],
   "source": [
    "import torch\n",
    "print(torch.cuda.is_available()) \n",
    "print(torch.cuda.device_count()) \n",
    "print(torch.cuda.get_device_name(0))"
   ]
  },
  {
   "cell_type": "code",
   "execution_count": 4,
   "id": "f3c950a0-8c0f-490f-8b64-d24cd5ef6d24",
   "metadata": {},
   "outputs": [],
   "source": [
    "import torch\n",
    "import torch.nn as nn\n",
    "import torch.nn.functional as F\n",
    "import torch.optim as optim\n",
    "from torch.utils.data import DataLoader\n",
    "from torchvision import datasets, transforms"
   ]
  },
  {
   "cell_type": "markdown",
   "id": "df6ea83b-1465-4ee2-a923-8ce72f6f306d",
   "metadata": {},
   "source": [
    "<!-- ![This is an image](image/cifar-10.jpg)-->\n",
    "<img src=\"image/cifar-10.jpg\" alt=\"vgg\" width=\"700\"/>\n"
   ]
  },
  {
   "cell_type": "code",
   "execution_count": 5,
   "id": "b8d1fe9e-bc8f-487e-8a8a-385c5ae3b011",
   "metadata": {},
   "outputs": [
    {
     "name": "stdout",
     "output_type": "stream",
     "text": [
      "Mean: tensor([0.4914, 0.4822, 0.4465])\n",
      "Std: tensor([0.2469, 0.2434, 0.2615])\n"
     ]
    }
   ],
   "source": [
    "transform = transforms.Compose([\n",
    "    transforms.ToTensor()\n",
    "])\n",
    "\n",
    "train_dataset = datasets.CIFAR10(root='./cifar10', download=True, transform=transform)\n",
    "loader = DataLoader(train_dataset, batch_size=500, shuffle=False)\n",
    "\n",
    "mean = torch.zeros(3)\n",
    "std = torch.zeros(3)\n",
    "\n",
    "for images, _ in loader:\n",
    "    for c in range(3):\n",
    "        mean[c] += images[:, c, :, :].mean()\n",
    "        std[c] += images[:, c, :, :].std()\n",
    "\n",
    "mean /= len(loader)\n",
    "std /= len(loader)\n",
    "\n",
    "print(f'Mean: {mean}')\n",
    "print(f'Std: {std}')"
   ]
  },
  {
   "cell_type": "code",
   "execution_count": 6,
   "id": "1534e68d-03e5-48cd-b729-50c78720aa9f",
   "metadata": {},
   "outputs": [],
   "source": [
    "transform = transforms.Compose([\n",
    "    transforms.ToTensor(),\n",
    "    transforms.Normalize(\n",
    "        mean=[0.4914, 0.4822, 0.4465], #Converts images from PIL or NumPy arrays to PyTorch tensors and scales pixel values from [0,255] to [0,1]\n",
    "        std=[0.2469, 0.2434, 0.2615]   # Standardizes data using the provided mean and standard deviation\n",
    "    )\n",
    "])\n",
    "\n",
    "train_dataset = datasets.CIFAR10(root='./cifar10', train=True, download=True, transform=transform)\n",
    "test_dataset = datasets.CIFAR10(root='./cifar10', train=False, download=True, transform=transform)\n",
    "\n",
    "train_loader = DataLoader(train_dataset, batch_size=128, shuffle=True)\n",
    "test_loader = DataLoader(test_dataset, batch_size=128, shuffle=False)"
   ]
  },
  {
   "cell_type": "code",
   "execution_count": 7,
   "id": "e500b467-1241-4d1e-8985-e67490b43d4e",
   "metadata": {},
   "outputs": [],
   "source": [
    "def train(model, device, train_loader, optimizer, epoch):\n",
    "    model.train()\n",
    "    for batch_idx, (data, target) in enumerate(train_loader):\n",
    "        data, target = data.to(device), target.to(device)\n",
    "        optimizer.zero_grad()\n",
    "        output = model(data)\n",
    "        loss = F.cross_entropy(output, target)\n",
    "        loss.backward()\n",
    "        optimizer.step()\n",
    "        if batch_idx % 100 == 0:\n",
    "            print(f'Train Epoch: {epoch} [{batch_idx * len(data)}/{len(train_loader.dataset)}]\\tLoss: {loss.item():.4f}')"
   ]
  },
  {
   "cell_type": "code",
   "execution_count": 8,
   "id": "373500dc-1ec8-42ab-b672-7a4af801384b",
   "metadata": {},
   "outputs": [],
   "source": [
    "def test(model, device, test_loader):\n",
    "    model.eval()\n",
    "    correct = 0\n",
    "    test_loss = 0\n",
    "    with torch.no_grad():\n",
    "        for data, target in test_loader:\n",
    "            data, target = data.to(device), target.to(device)\n",
    "            output = model(data)\n",
    "            test_loss += F.cross_entropy(output, target, reduction='sum').item()\n",
    "            pred = output.argmax(dim=1, keepdim=True)\n",
    "            correct += pred.eq(target.view_as(pred)).sum().item()\n",
    "\n",
    "    test_loss /= len(test_loader.dataset)\n",
    "    accuracy = 100. * correct / len(test_loader.dataset)\n",
    "\n",
    "    print(f'Test set: Average loss: {test_loss:.4f}, Accuracy: {correct}/{len(test_loader.dataset)} ({accuracy:.2f}%)')\n"
   ]
  },
  {
   "cell_type": "markdown",
   "id": "588b7505-8cd2-466c-ab76-576aa3e3cab5",
   "metadata": {},
   "source": [
    "<!-- ![Image from URL](image/alexnet.jpg) -->\n",
    "<img src=\"image/VGG.png\" alt=\"vgg\" width=\"800\"/>\n"
   ]
  },
  {
   "cell_type": "markdown",
   "id": "62e61c2b-fd8c-4b42-8429-265716730fde",
   "metadata": {},
   "source": [
    "output_size = (input_size + 2 × padding - kernel_size) / stride + 1\n",
    "\n",
    "The size of CIFAR-10's image is 3 channels and 32 x 32  \n",
    "\n",
    "image input | 32×32×3 | | Conv(3→64) | 32×32×64 | | MaxPool | 16×16×64 | | Conv(64→128) | 16×16×128 | | MaxPool | 8×8×128 | | Conv(128→256) | 8×8×256 | | Conv(256→256) | 8×8×256 | | MaxPool | 4×4×256 | | Conv(256→512) | 4×4×512 | | MaxPool | 2×2×512 | | Flatten | 2048 | | Linear | 512 → 512 → 10 | type"
   ]
  },
  {
   "cell_type": "code",
   "execution_count": 15,
   "id": "d37b6e90-ef03-4558-8fc9-107018321477",
   "metadata": {},
   "outputs": [],
   "source": [
    "class ModifiedVGG(nn.Module):\n",
    "    def __init__(self):\n",
    "        super().__init__()\n",
    "        self.model = nn.Sequential(\n",
    "\n",
    "            nn.Conv2d(3, 64, kernel_size=3, padding=1), \n",
    "            nn.ReLU(),\n",
    "            nn.MaxPool2d(2, 2),  \n",
    "\n",
    "            nn.Conv2d(64, 128, kernel_size=3, padding=1),\n",
    "            nn.ReLU(),\n",
    "            nn.MaxPool2d(2, 2), \n",
    "\n",
    "            nn.Conv2d(128, 256, kernel_size=3, padding=1),\n",
    "            nn.ReLU(),\n",
    "\n",
    "            nn.Conv2d(256, 256, kernel_size=3, padding=1),\n",
    "            nn.ReLU(),\n",
    "            nn.MaxPool2d(2, 2), \n",
    "\n",
    "            nn.Conv2d(256, 512, kernel_size=3, padding=1),\n",
    "            nn.ReLU(),\n",
    "\n",
    "            nn.Conv2d(512, 512, kernel_size=3, padding=1),\n",
    "            nn.ReLU(),\n",
    "            nn.MaxPool2d(2, 2), \n",
    "\n",
    "            nn.Flatten(),  \n",
    "            nn.Linear(512 * 2 * 2, 512),\n",
    "            nn.ReLU(),\n",
    "\n",
    "            nn.Dropout(0.5),\n",
    "\n",
    "            nn.Linear(512, 512),\n",
    "            nn.ReLU(),\n",
    "            nn.Dropout(0.5),\n",
    "            nn.Linear(512, 10) \n",
    "        )\n",
    "\n",
    "    def forward(self, x):\n",
    "        return self.model(x)"
   ]
  },
  {
   "cell_type": "code",
   "execution_count": 16,
   "id": "7220ad6b-4c09-4cf0-83e4-8fe45dd4a3a2",
   "metadata": {},
   "outputs": [
    {
     "name": "stdout",
     "output_type": "stream",
     "text": [
      "Using device: cuda\n",
      "Train Epoch: 1 [0/50000]\tLoss: 2.3062\n",
      "Train Epoch: 1 [12800/50000]\tLoss: 1.9865\n",
      "Train Epoch: 1 [25600/50000]\tLoss: 1.5685\n",
      "Train Epoch: 1 [38400/50000]\tLoss: 1.6111\n",
      "Test set: Average loss: 1.3561, Accuracy: 4950/10000 (49.50%)\n",
      "Train Epoch: 2 [0/50000]\tLoss: 1.4983\n",
      "Train Epoch: 2 [12800/50000]\tLoss: 1.2230\n",
      "Train Epoch: 2 [25600/50000]\tLoss: 1.0784\n",
      "Train Epoch: 2 [38400/50000]\tLoss: 1.3399\n",
      "Test set: Average loss: 1.1147, Accuracy: 5943/10000 (59.43%)\n",
      "Train Epoch: 3 [0/50000]\tLoss: 1.3091\n",
      "Train Epoch: 3 [12800/50000]\tLoss: 1.1480\n",
      "Train Epoch: 3 [25600/50000]\tLoss: 0.9546\n",
      "Train Epoch: 3 [38400/50000]\tLoss: 0.9803\n",
      "Test set: Average loss: 0.9281, Accuracy: 6725/10000 (67.25%)\n",
      "Train Epoch: 4 [0/50000]\tLoss: 0.9406\n",
      "Train Epoch: 4 [12800/50000]\tLoss: 0.8656\n",
      "Train Epoch: 4 [25600/50000]\tLoss: 0.9413\n",
      "Train Epoch: 4 [38400/50000]\tLoss: 0.7679\n",
      "Test set: Average loss: 0.9036, Accuracy: 6893/10000 (68.93%)\n",
      "Train Epoch: 5 [0/50000]\tLoss: 0.7554\n",
      "Train Epoch: 5 [12800/50000]\tLoss: 0.6399\n",
      "Train Epoch: 5 [25600/50000]\tLoss: 0.6317\n",
      "Train Epoch: 5 [38400/50000]\tLoss: 0.7209\n",
      "Test set: Average loss: 0.8508, Accuracy: 7128/10000 (71.28%)\n",
      "Train Epoch: 6 [0/50000]\tLoss: 0.6340\n",
      "Train Epoch: 6 [12800/50000]\tLoss: 0.8071\n",
      "Train Epoch: 6 [25600/50000]\tLoss: 0.5566\n",
      "Train Epoch: 6 [38400/50000]\tLoss: 0.5322\n",
      "Test set: Average loss: 0.7971, Accuracy: 7257/10000 (72.57%)\n",
      "Train Epoch: 7 [0/50000]\tLoss: 0.4709\n",
      "Train Epoch: 7 [12800/50000]\tLoss: 0.6392\n",
      "Train Epoch: 7 [25600/50000]\tLoss: 0.4525\n",
      "Train Epoch: 7 [38400/50000]\tLoss: 0.4916\n",
      "Test set: Average loss: 0.8159, Accuracy: 7406/10000 (74.06%)\n",
      "Train Epoch: 8 [0/50000]\tLoss: 0.4529\n",
      "Train Epoch: 8 [12800/50000]\tLoss: 0.3741\n",
      "Train Epoch: 8 [25600/50000]\tLoss: 0.6297\n",
      "Train Epoch: 8 [38400/50000]\tLoss: 0.4025\n",
      "Test set: Average loss: 0.7861, Accuracy: 7474/10000 (74.74%)\n",
      "Train Epoch: 9 [0/50000]\tLoss: 0.2672\n",
      "Train Epoch: 9 [12800/50000]\tLoss: 0.3720\n",
      "Train Epoch: 9 [25600/50000]\tLoss: 0.4299\n",
      "Train Epoch: 9 [38400/50000]\tLoss: 0.2846\n",
      "Test set: Average loss: 0.8510, Accuracy: 7463/10000 (74.63%)\n",
      "Train Epoch: 10 [0/50000]\tLoss: 0.3664\n",
      "Train Epoch: 10 [12800/50000]\tLoss: 0.3125\n",
      "Train Epoch: 10 [25600/50000]\tLoss: 0.1090\n",
      "Train Epoch: 10 [38400/50000]\tLoss: 0.3896\n",
      "Test set: Average loss: 0.8660, Accuracy: 7476/10000 (74.76%)\n"
     ]
    }
   ],
   "source": [
    "device = torch.device(\"cuda\" if torch.cuda.is_available() else \"cpu\")\n",
    "print(f'Using device: {device}')\n",
    "model = ModifiedVGG().to(device)\n",
    "optimizer = optim.Adam(model.parameters(), lr=0.001)\n",
    "\n",
    "epochs = 10\n",
    "for epoch in range(1, epochs + 1):\n",
    "    train(model, device, train_loader, optimizer, epoch)\n",
    "    test(model, device, test_loader)\n"
   ]
  },
  {
   "cell_type": "code",
   "execution_count": null,
   "id": "52e152a9-eb98-4071-b69e-e57308bddac1",
   "metadata": {},
   "outputs": [],
   "source": []
  },
  {
   "cell_type": "code",
   "execution_count": null,
   "id": "f5d39c24-1287-41ce-bb5f-db82a20bbaae",
   "metadata": {},
   "outputs": [],
   "source": []
  }
 ],
 "metadata": {
  "kernelspec": {
   "display_name": "Python 3 (ipykernel)",
   "language": "python",
   "name": "python3"
  },
  "language_info": {
   "codemirror_mode": {
    "name": "ipython",
    "version": 3
   },
   "file_extension": ".py",
   "mimetype": "text/x-python",
   "name": "python",
   "nbconvert_exporter": "python",
   "pygments_lexer": "ipython3",
   "version": "3.12.3"
  }
 },
 "nbformat": 4,
 "nbformat_minor": 5
}
