{
 "cells": [
  {
   "cell_type": "markdown",
   "id": "209fea3a-9a3e-47af-abac-c56fbda261d9",
   "metadata": {},
   "source": [
    "Refer https://www.bilibili.com/video/BV1D1421r7sj?spm_id_from=333.788.videopod.sections&vd_source=b47e02f9c38ec61f19d536cee73b2322"
   ]
  },
  {
   "cell_type": "code",
   "execution_count": 2,
   "id": "1d8163d1-e1d6-49dc-9797-6a1a43606764",
   "metadata": {},
   "outputs": [
    {
     "name": "stdout",
     "output_type": "stream",
     "text": [
      "Fri Mar  7 05:19:50 2025       \n",
      "+-----------------------------------------------------------------------------------------+\n",
      "| NVIDIA-SMI 560.94                 Driver Version: 560.94         CUDA Version: 12.6     |\n",
      "|-----------------------------------------+------------------------+----------------------+\n",
      "| GPU  Name                  Driver-Model | Bus-Id          Disp.A | Volatile Uncorr. ECC |\n",
      "| Fan  Temp   Perf          Pwr:Usage/Cap |           Memory-Usage | GPU-Util  Compute M. |\n",
      "|                                         |                        |               MIG M. |\n",
      "|=========================================+========================+======================|\n",
      "|   0  NVIDIA GeForce RTX 2060      WDDM  |   00000000:04:00.0  On |                  N/A |\n",
      "|  0%   51C    P0             32W /  172W |    2497MiB /   6144MiB |      0%      Default |\n",
      "|                                         |                        |                  N/A |\n",
      "+-----------------------------------------+------------------------+----------------------+\n",
      "                                                                                         \n",
      "+-----------------------------------------------------------------------------------------+\n",
      "| Processes:                                                                              |\n",
      "|  GPU   GI   CI        PID   Type   Process name                              GPU Memory |\n",
      "|        ID   ID                                                               Usage      |\n",
      "|=========================================================================================|\n",
      "|    0   N/A  N/A       892    C+G   ...ekyb3d8bbwe\\PhoneExperienceHost.exe      N/A      |\n",
      "|    0   N/A  N/A      1584    C+G   ...2.0_x64__cv1g1gvanyjgm\\WhatsApp.exe      N/A      |\n",
      "|    0   N/A  N/A      2212    C+G   ...crosoft\\Edge\\Application\\msedge.exe      N/A      |\n",
      "|    0   N/A  N/A      3468    C+G   ...oogle\\Chrome\\Application\\chrome.exe      N/A      |\n",
      "|    0   N/A  N/A      4328    C+G   ...nt.CBS_cw5n1h2txyewy\\SearchHost.exe      N/A      |\n",
      "|    0   N/A  N/A      4880    C+G   C:\\Windows\\explorer.exe                     N/A      |\n",
      "|    0   N/A  N/A      4972    C+G   ...t Office\\root\\Office16\\POWERPNT.EXE      N/A      |\n",
      "|    0   N/A  N/A      5476    C+G   ...siveControlPanel\\SystemSettings.exe      N/A      |\n",
      "|    0   N/A  N/A      7264    C+G   ...2txyewy\\StartMenuExperienceHost.exe      N/A      |\n",
      "|    0   N/A  N/A      8616    C+G   C:\\Game\\steam\\steam.exe                     N/A      |\n",
      "|    0   N/A  N/A      8788    C+G   ...ne\\Binaries\\Win64\\EpicWebHelper.exe      N/A      |\n",
      "|    0   N/A  N/A      9488    C+G   ...\\cef\\cef.win7x64\\steamwebhelper.exe      N/A      |\n",
      "|    0   N/A  N/A     11024    C+G   ...t.LockApp_cw5n1h2txyewy\\LockApp.exe      N/A      |\n",
      "|    0   N/A  N/A     11548    C+G   ...on\\133.0.3065.82\\msedgewebview2.exe      N/A      |\n",
      "|    0   N/A  N/A     15352    C+G   ...CBS_cw5n1h2txyewy\\TextInputHost.exe      N/A      |\n",
      "|    0   N/A  N/A     15752    C+G   ...on\\wallpaper_engine\\wallpaper64.exe      N/A      |\n",
      "|    0   N/A  N/A     16228    C+G   ...inaries\\Win64\\EpicGamesLauncher.exe      N/A      |\n",
      "|    0   N/A  N/A     17360    C+G   ...al\\Discord\\app-1.0.9184\\Discord.exe      N/A      |\n",
      "|    0   N/A  N/A     18000    C+G   ...174_x64__8wekyb3d8bbwe\\ms-teams.exe      N/A      |\n",
      "|    0   N/A  N/A     19940    C+G   ...174_x64__8wekyb3d8bbwe\\ms-teams.exe      N/A      |\n",
      "|    0   N/A  N/A     23496    C+G   ...les\\Microsoft OneDrive\\OneDrive.exe      N/A      |\n",
      "|    0   N/A  N/A     27444    C+G   ...5n1h2txyewy\\ShellExperienceHost.exe      N/A      |\n",
      "|    0   N/A  N/A     28744    C+G   ...es (x86)\\Dropbox\\Client\\Dropbox.exe      N/A      |\n",
      "|    0   N/A  N/A     39064    C+G   ...oogle\\Chrome\\Application\\chrome.exe      N/A      |\n",
      "|    0   N/A  N/A     41812    C+G   ...1\\extracted\\runtime\\WeChatAppEx.exe      N/A      |\n",
      "|    0   N/A  N/A     42288    C+G   ...es (x86)\\Dropbox\\Client\\Dropbox.exe      N/A      |\n",
      "|    0   N/A  N/A     42964    C+G   ...on\\133.0.3065.92\\msedgewebview2.exe      N/A      |\n",
      "|    0   N/A  N/A     44060    C+G   C:\\Windows\\System32\\WWAHost.exe             N/A      |\n",
      "|    0   N/A  N/A     44220    C+G   F:\\IDE\\Microsoft VS Code\\Code.exe           N/A      |\n",
      "|    0   N/A  N/A     70044    C+G   ...__8wekyb3d8bbwe\\WindowsTerminal.exe      N/A      |\n",
      "+-----------------------------------------------------------------------------------------+\n"
     ]
    }
   ],
   "source": [
    "!nvidia-smi"
   ]
  },
  {
   "cell_type": "code",
   "execution_count": 3,
   "id": "bec8f74f-fb24-41d5-940b-da183a09e467",
   "metadata": {},
   "outputs": [
    {
     "name": "stdout",
     "output_type": "stream",
     "text": [
      "Looking in indexes: https://download.pytorch.org/whl/cu126\n",
      "Requirement already satisfied: torch in f:\\python\\lib\\site-packages (2.6.0+cu126)\n",
      "Requirement already satisfied: torchvision in f:\\python\\lib\\site-packages (0.21.0+cu126)\n",
      "Requirement already satisfied: torchaudio in f:\\python\\lib\\site-packages (2.6.0+cu126)\n",
      "Requirement already satisfied: filelock in f:\\python\\lib\\site-packages (from torch) (3.17.0)\n",
      "Requirement already satisfied: typing-extensions>=4.10.0 in f:\\python\\lib\\site-packages (from torch) (4.12.2)\n",
      "Requirement already satisfied: networkx in f:\\python\\lib\\site-packages (from torch) (3.4.2)\n",
      "Requirement already satisfied: jinja2 in f:\\python\\lib\\site-packages (from torch) (3.1.5)\n",
      "Requirement already satisfied: fsspec in f:\\python\\lib\\site-packages (from torch) (2025.2.0)\n",
      "Requirement already satisfied: setuptools in f:\\python\\lib\\site-packages (from torch) (70.2.0)\n",
      "Requirement already satisfied: sympy==1.13.1 in f:\\python\\lib\\site-packages (from torch) (1.13.1)\n",
      "Requirement already satisfied: mpmath<1.4,>=1.1.0 in f:\\python\\lib\\site-packages (from sympy==1.13.1->torch) (1.3.0)\n",
      "Requirement already satisfied: numpy in f:\\python\\lib\\site-packages (from torchvision) (2.2.1)\n",
      "Requirement already satisfied: pillow!=8.3.*,>=5.3.0 in f:\\python\\lib\\site-packages (from torchvision) (11.1.0)\n",
      "Requirement already satisfied: MarkupSafe>=2.0 in f:\\python\\lib\\site-packages (from jinja2->torch) (3.0.2)\n"
     ]
    },
    {
     "name": "stderr",
     "output_type": "stream",
     "text": [
      "\n",
      "[notice] A new release of pip is available: 24.1.1 -> 25.0.1\n",
      "[notice] To update, run: python.exe -m pip install --upgrade pip\n"
     ]
    }
   ],
   "source": [
    "!pip install torch torchvision torchaudio --index-url https://download.pytorch.org/whl/cu126"
   ]
  },
  {
   "cell_type": "code",
   "execution_count": 4,
   "id": "eae9a865-8a58-4c22-aeeb-d80192766bd4",
   "metadata": {},
   "outputs": [
    {
     "name": "stdout",
     "output_type": "stream",
     "text": [
      "True\n",
      "1\n",
      "NVIDIA GeForce RTX 2060\n"
     ]
    }
   ],
   "source": [
    "import torch\n",
    "print(torch.cuda.is_available()) \n",
    "print(torch.cuda.device_count()) \n",
    "print(torch.cuda.get_device_name(0))"
   ]
  },
  {
   "cell_type": "code",
   "execution_count": 5,
   "id": "f3c950a0-8c0f-490f-8b64-d24cd5ef6d24",
   "metadata": {},
   "outputs": [],
   "source": [
    "import torch\n",
    "import torch.nn as nn\n",
    "import torch.nn.functional as F\n",
    "import torch.optim as optim\n",
    "from torch.utils.data import DataLoader\n",
    "from torchvision import datasets, transforms"
   ]
  },
  {
   "cell_type": "markdown",
   "id": "df6ea83b-1465-4ee2-a923-8ce72f6f306d",
   "metadata": {},
   "source": [
    "<!-- ![This is an image](image/cifar-10.jpg)-->\n",
    "<img src=\"image/cifar-10.jpg\" alt=\"vgg\" width=\"700\"/>\n"
   ]
  },
  {
   "cell_type": "code",
   "execution_count": 6,
   "id": "b8d1fe9e-bc8f-487e-8a8a-385c5ae3b011",
   "metadata": {},
   "outputs": [
    {
     "name": "stdout",
     "output_type": "stream",
     "text": [
      "Mean: tensor([0.4914, 0.4822, 0.4465])\n",
      "Std: tensor([0.2469, 0.2434, 0.2615])\n"
     ]
    }
   ],
   "source": [
    "transform = transforms.Compose([\n",
    "    transforms.ToTensor()\n",
    "])\n",
    "\n",
    "train_dataset = datasets.CIFAR10(root='./cifar10', download=True, transform=transform)\n",
    "loader = DataLoader(train_dataset, batch_size=500, shuffle=False)\n",
    "\n",
    "mean = torch.zeros(3)\n",
    "std = torch.zeros(3)\n",
    "\n",
    "for images, _ in loader:\n",
    "    for c in range(3):\n",
    "        mean[c] += images[:, c, :, :].mean()\n",
    "        std[c] += images[:, c, :, :].std()\n",
    "\n",
    "mean /= len(loader)\n",
    "std /= len(loader)\n",
    "\n",
    "print(f'Mean: {mean}')\n",
    "print(f'Std: {std}')"
   ]
  },
  {
   "cell_type": "code",
   "execution_count": 7,
   "id": "1534e68d-03e5-48cd-b729-50c78720aa9f",
   "metadata": {},
   "outputs": [],
   "source": [
    "transform = transforms.Compose([\n",
    "    transforms.ToTensor(),\n",
    "    transforms.Normalize(\n",
    "        mean=[0.4914, 0.4822, 0.4465], #Converts images from PIL or NumPy arrays to PyTorch tensors and scales pixel values from [0,255] to [0,1]\n",
    "        std=[0.2469, 0.2434, 0.2615]   # Standardizes data using the provided mean and standard deviation\n",
    "    )\n",
    "])\n",
    "\n",
    "train_dataset = datasets.CIFAR10(root='./cifar10', train=True, download=True, transform=transform)\n",
    "test_dataset = datasets.CIFAR10(root='./cifar10', train=False, download=True, transform=transform)\n",
    "\n",
    "train_loader = DataLoader(train_dataset, batch_size=128, shuffle=True)\n",
    "test_loader = DataLoader(test_dataset, batch_size=128, shuffle=False)"
   ]
  },
  {
   "cell_type": "code",
   "execution_count": 8,
   "id": "e500b467-1241-4d1e-8985-e67490b43d4e",
   "metadata": {},
   "outputs": [],
   "source": [
    "def train(model, device, train_loader, optimizer, epoch):\n",
    "    model.train()\n",
    "    for batch_idx, (data, target) in enumerate(train_loader):\n",
    "        data, target = data.to(device), target.to(device)\n",
    "        optimizer.zero_grad()\n",
    "        output = model(data)\n",
    "        loss = F.cross_entropy(output, target)\n",
    "        loss.backward()\n",
    "        optimizer.step()\n",
    "        if batch_idx % 100 == 0:\n",
    "            print(f'Train Epoch: {epoch} [{batch_idx * len(data)}/{len(train_loader.dataset)}]\\tLoss: {loss.item():.4f}')"
   ]
  },
  {
   "cell_type": "code",
   "execution_count": 9,
   "id": "373500dc-1ec8-42ab-b672-7a4af801384b",
   "metadata": {},
   "outputs": [],
   "source": [
    "def test(model, device, test_loader):\n",
    "    model.eval()\n",
    "    correct = 0\n",
    "    test_loss = 0\n",
    "    with torch.no_grad():\n",
    "        for data, target in test_loader:\n",
    "            data, target = data.to(device), target.to(device)\n",
    "            output = model(data)\n",
    "            test_loss += F.cross_entropy(output, target, reduction='sum').item()\n",
    "            pred = output.argmax(dim=1, keepdim=True)\n",
    "            correct += pred.eq(target.view_as(pred)).sum().item()\n",
    "\n",
    "    test_loss /= len(test_loader.dataset)\n",
    "    accuracy = 100. * correct / len(test_loader.dataset)\n",
    "\n",
    "    print(f'Test set: Average loss: {test_loss:.4f}, Accuracy: {correct}/{len(test_loader.dataset)} ({accuracy:.2f}%)')\n"
   ]
  },
  {
   "cell_type": "markdown",
   "id": "588b7505-8cd2-466c-ab76-576aa3e3cab5",
   "metadata": {},
   "source": [
    "<!-- ![Image from URL](image/alexnet.jpg) -->\n",
    "<img src=\"image/VGG.png\" alt=\"vgg\" width=\"800\"/>\n"
   ]
  },
  {
   "cell_type": "markdown",
   "id": "62e61c2b-fd8c-4b42-8429-265716730fde",
   "metadata": {},
   "source": [
    "output_size = (input_size + 2 × padding - kernel_size) / stride + 1\n",
    "\n",
    "The size of CIFAR-10's image is 3 channels and 32 x 32  \n",
    "\n",
    "image input | 32×32×3 | | Conv(3→64) | 32×32×64 | | MaxPool | 16×16×64 | | Conv(64→128) | 16×16×128 | | MaxPool | 8×8×128 | | Conv(128→256) | 8×8×256 | | Conv(256→256) | 8×8×256 | | MaxPool | 4×4×256 | | Conv(256→512) | 4×4×512 | | MaxPool | 2×2×512 | | Flatten | 2048 | | Linear | 512 → 512 → 10 | type"
   ]
  },
  {
   "cell_type": "code",
   "execution_count": 10,
   "id": "d37b6e90-ef03-4558-8fc9-107018321477",
   "metadata": {},
   "outputs": [],
   "source": [
    "class ModifiedVGG(nn.Module):\n",
    "    def __init__(self):\n",
    "        super().__init__()\n",
    "        self.model = nn.Sequential(\n",
    "\n",
    "            nn.Conv2d(3, 64, kernel_size=3, padding=1), \n",
    "            nn.ReLU(),\n",
    "            nn.MaxPool2d(2, 2),  \n",
    "\n",
    "            nn.Conv2d(64, 128, kernel_size=3, padding=1),\n",
    "            nn.ReLU(),\n",
    "            nn.MaxPool2d(2, 2), \n",
    "\n",
    "            nn.Conv2d(128, 256, kernel_size=3, padding=1),\n",
    "            nn.ReLU(),\n",
    "\n",
    "            nn.Conv2d(256, 256, kernel_size=3, padding=1),\n",
    "            nn.ReLU(),\n",
    "            nn.MaxPool2d(2, 2), \n",
    "\n",
    "            nn.Conv2d(256, 512, kernel_size=3, padding=1),\n",
    "            nn.ReLU(),\n",
    "\n",
    "            nn.Conv2d(512, 512, kernel_size=3, padding=1),\n",
    "            nn.ReLU(),\n",
    "            nn.MaxPool2d(2, 2), \n",
    "\n",
    "            nn.Flatten(),  \n",
    "            nn.Linear(512 * 2 * 2, 512),\n",
    "            nn.ReLU(),\n",
    "\n",
    "            nn.Linear(512, 512),\n",
    "            nn.ReLU(),\n",
    "\n",
    "            nn.Linear(512, 10) \n",
    "        )\n",
    "\n",
    "    def forward(self, x):\n",
    "        return self.model(x)"
   ]
  },
  {
   "cell_type": "code",
   "execution_count": 11,
   "id": "7220ad6b-4c09-4cf0-83e4-8fe45dd4a3a2",
   "metadata": {},
   "outputs": [
    {
     "name": "stdout",
     "output_type": "stream",
     "text": [
      "Using device: cuda\n",
      "Train Epoch: 1 [0/50000]\tLoss: 2.3015\n",
      "Train Epoch: 1 [12800/50000]\tLoss: 1.9187\n",
      "Train Epoch: 1 [25600/50000]\tLoss: 1.7141\n",
      "Train Epoch: 1 [38400/50000]\tLoss: 1.5726\n",
      "Test set: Average loss: 1.3894, Accuracy: 4696/10000 (46.96%)\n",
      "Train Epoch: 2 [0/50000]\tLoss: 1.3954\n",
      "Train Epoch: 2 [12800/50000]\tLoss: 1.2452\n",
      "Train Epoch: 2 [25600/50000]\tLoss: 1.1081\n",
      "Train Epoch: 2 [38400/50000]\tLoss: 1.0416\n",
      "Test set: Average loss: 1.0778, Accuracy: 6157/10000 (61.57%)\n",
      "Train Epoch: 3 [0/50000]\tLoss: 0.9074\n",
      "Train Epoch: 3 [12800/50000]\tLoss: 0.9532\n",
      "Train Epoch: 3 [25600/50000]\tLoss: 0.8743\n",
      "Train Epoch: 3 [38400/50000]\tLoss: 1.0617\n",
      "Test set: Average loss: 0.9065, Accuracy: 6874/10000 (68.74%)\n",
      "Train Epoch: 4 [0/50000]\tLoss: 0.8491\n",
      "Train Epoch: 4 [12800/50000]\tLoss: 0.7668\n",
      "Train Epoch: 4 [25600/50000]\tLoss: 0.7016\n",
      "Train Epoch: 4 [38400/50000]\tLoss: 0.8230\n",
      "Test set: Average loss: 0.8534, Accuracy: 7055/10000 (70.55%)\n",
      "Train Epoch: 5 [0/50000]\tLoss: 0.7371\n",
      "Train Epoch: 5 [12800/50000]\tLoss: 0.6755\n",
      "Train Epoch: 5 [25600/50000]\tLoss: 0.7553\n",
      "Train Epoch: 5 [38400/50000]\tLoss: 0.6275\n",
      "Test set: Average loss: 0.7627, Accuracy: 7401/10000 (74.01%)\n",
      "Train Epoch: 6 [0/50000]\tLoss: 0.5695\n",
      "Train Epoch: 6 [12800/50000]\tLoss: 0.6675\n",
      "Train Epoch: 6 [25600/50000]\tLoss: 0.6723\n",
      "Train Epoch: 6 [38400/50000]\tLoss: 0.3839\n",
      "Test set: Average loss: 0.7623, Accuracy: 7476/10000 (74.76%)\n",
      "Train Epoch: 7 [0/50000]\tLoss: 0.3105\n",
      "Train Epoch: 7 [12800/50000]\tLoss: 0.3604\n",
      "Train Epoch: 7 [25600/50000]\tLoss: 0.4905\n",
      "Train Epoch: 7 [38400/50000]\tLoss: 0.2976\n",
      "Test set: Average loss: 0.7919, Accuracy: 7514/10000 (75.14%)\n",
      "Train Epoch: 8 [0/50000]\tLoss: 0.4163\n",
      "Train Epoch: 8 [12800/50000]\tLoss: 0.3827\n",
      "Train Epoch: 8 [25600/50000]\tLoss: 0.4645\n",
      "Train Epoch: 8 [38400/50000]\tLoss: 0.2077\n",
      "Test set: Average loss: 0.7814, Accuracy: 7525/10000 (75.25%)\n",
      "Train Epoch: 9 [0/50000]\tLoss: 0.3474\n",
      "Train Epoch: 9 [12800/50000]\tLoss: 0.3537\n",
      "Train Epoch: 9 [25600/50000]\tLoss: 0.3807\n",
      "Train Epoch: 9 [38400/50000]\tLoss: 0.3181\n",
      "Test set: Average loss: 0.8873, Accuracy: 7557/10000 (75.57%)\n",
      "Train Epoch: 10 [0/50000]\tLoss: 0.2234\n",
      "Train Epoch: 10 [12800/50000]\tLoss: 0.1624\n",
      "Train Epoch: 10 [25600/50000]\tLoss: 0.1853\n",
      "Train Epoch: 10 [38400/50000]\tLoss: 0.3060\n",
      "Test set: Average loss: 0.9921, Accuracy: 7505/10000 (75.05%)\n"
     ]
    }
   ],
   "source": [
    "device = torch.device(\"cuda\" if torch.cuda.is_available() else \"cpu\")\n",
    "print(f'Using device: {device}')\n",
    "model = ModifiedVGG().to(device)\n",
    "optimizer = optim.Adam(model.parameters(), lr=0.001)\n",
    "\n",
    "epochs = 10\n",
    "for epoch in range(1, epochs + 1):\n",
    "    train(model, device, train_loader, optimizer, epoch)\n",
    "    test(model, device, test_loader)\n"
   ]
  },
  {
   "cell_type": "code",
   "execution_count": null,
   "id": "52e152a9-eb98-4071-b69e-e57308bddac1",
   "metadata": {},
   "outputs": [],
   "source": []
  },
  {
   "cell_type": "code",
   "execution_count": null,
   "id": "f5d39c24-1287-41ce-bb5f-db82a20bbaae",
   "metadata": {},
   "outputs": [],
   "source": []
  }
 ],
 "metadata": {
  "kernelspec": {
   "display_name": "Python 3 (ipykernel)",
   "language": "python",
   "name": "python3"
  },
  "language_info": {
   "codemirror_mode": {
    "name": "ipython",
    "version": 3
   },
   "file_extension": ".py",
   "mimetype": "text/x-python",
   "name": "python",
   "nbconvert_exporter": "python",
   "pygments_lexer": "ipython3",
   "version": "3.12.4"
  }
 },
 "nbformat": 4,
 "nbformat_minor": 5
}
